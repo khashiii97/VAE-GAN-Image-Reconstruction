{
  "cells": [
    {
      "cell_type": "markdown",
      "metadata": {
        "id": "tKac_MOINNhs"
      },
      "source": [
        "Goals:\n",
        "\n",
        "* Implementing Fully Connected AutoEncoders\n",
        "\n",
        "* Implement naive generative model\n",
        "\n",
        "* Understand VAE and GAN, then implement a classical generative model: VAE-GAN.\n",
        "\n",
        "\n",
        "\n",
        "### DataSet\n",
        "\n",
        "The Fashion-MNIST dataset is used. You can use  \n",
        "```python\n",
        "(x_train, _), (x_test, _)  = keras.datasets.fashion_mnist.load_data()\n",
        "```\n",
        "to load the dataset.\n"
      ]
    },
    {
      "cell_type": "markdown",
      "metadata": {
        "id": "ukZ761ZMNNhv"
      },
      "source": [
        "## Implementation"
      ]
    },
    {
      "cell_type": "markdown",
      "metadata": {
        "id": "bB38zxn3Pr7p"
      },
      "source": [
        "####Fully Connected Auto Encoder"
      ]
    },
    {
      "cell_type": "code",
      "execution_count": null,
      "metadata": {
        "colab": {
          "base_uri": "https://localhost:8080/",
          "height": 1000
        },
        "id": "EvDdBdR0NNhv",
        "outputId": "5eb65834-8346-4524-db11-bf229a8e69ee"
      },
      "outputs": [
        {
          "name": "stderr",
          "output_type": "stream",
          "text": [
            "100%|██████████| 235/235 [00:02<00:00, 114.32it/s]\n"
          ]
        },
        {
          "name": "stdout",
          "output_type": "stream",
          "text": [
            "Epoch 1, Train Loss: 0.0662, Validation Loss: 0.0407\n"
          ]
        },
        {
          "name": "stderr",
          "output_type": "stream",
          "text": [
            "100%|██████████| 235/235 [00:02<00:00, 112.64it/s]\n"
          ]
        },
        {
          "name": "stdout",
          "output_type": "stream",
          "text": [
            "Epoch 2, Train Loss: 0.0380, Validation Loss: 0.0361\n"
          ]
        },
        {
          "name": "stderr",
          "output_type": "stream",
          "text": [
            "100%|██████████| 235/235 [00:02<00:00, 78.45it/s]\n"
          ]
        },
        {
          "name": "stdout",
          "output_type": "stream",
          "text": [
            "Epoch 3, Train Loss: 0.0352, Validation Loss: 0.0350\n"
          ]
        },
        {
          "name": "stderr",
          "output_type": "stream",
          "text": [
            "100%|██████████| 235/235 [00:02<00:00, 80.84it/s]\n"
          ]
        },
        {
          "name": "stdout",
          "output_type": "stream",
          "text": [
            "Epoch 4, Train Loss: 0.0339, Validation Loss: 0.0341\n"
          ]
        },
        {
          "name": "stderr",
          "output_type": "stream",
          "text": [
            "100%|██████████| 235/235 [00:03<00:00, 77.88it/s]\n"
          ]
        },
        {
          "name": "stdout",
          "output_type": "stream",
          "text": [
            "Epoch 5, Train Loss: 0.0330, Validation Loss: 0.0340\n"
          ]
        },
        {
          "name": "stderr",
          "output_type": "stream",
          "text": [
            "100%|██████████| 235/235 [00:02<00:00, 78.54it/s]\n"
          ]
        },
        {
          "name": "stdout",
          "output_type": "stream",
          "text": [
            "Epoch 6, Train Loss: 0.0325, Validation Loss: 0.0339\n"
          ]
        },
        {
          "name": "stderr",
          "output_type": "stream",
          "text": [
            "100%|██████████| 235/235 [00:03<00:00, 68.47it/s]\n"
          ]
        },
        {
          "name": "stdout",
          "output_type": "stream",
          "text": [
            "Epoch 7, Train Loss: 0.0320, Validation Loss: 0.0334\n"
          ]
        },
        {
          "name": "stderr",
          "output_type": "stream",
          "text": [
            "100%|██████████| 235/235 [00:03<00:00, 60.40it/s]\n"
          ]
        },
        {
          "name": "stdout",
          "output_type": "stream",
          "text": [
            "Epoch 8, Train Loss: 0.0317, Validation Loss: 0.0334\n"
          ]
        },
        {
          "name": "stderr",
          "output_type": "stream",
          "text": [
            "100%|██████████| 235/235 [00:02<00:00, 85.75it/s]\n"
          ]
        },
        {
          "name": "stdout",
          "output_type": "stream",
          "text": [
            "Epoch 9, Train Loss: 0.0313, Validation Loss: 0.0328\n"
          ]
        },
        {
          "name": "stderr",
          "output_type": "stream",
          "text": [
            "100%|██████████| 235/235 [00:03<00:00, 69.56it/s]\n"
          ]
        },
        {
          "name": "stdout",
          "output_type": "stream",
          "text": [
            "Epoch 10, Train Loss: 0.0310, Validation Loss: 0.0325\n"
          ]
        },
        {
          "name": "stderr",
          "output_type": "stream",
          "text": [
            "100%|██████████| 235/235 [00:04<00:00, 53.20it/s]\n"
          ]
        },
        {
          "name": "stdout",
          "output_type": "stream",
          "text": [
            "Epoch 11, Train Loss: 0.0307, Validation Loss: 0.0316\n"
          ]
        },
        {
          "name": "stderr",
          "output_type": "stream",
          "text": [
            "100%|██████████| 235/235 [00:03<00:00, 59.03it/s]\n"
          ]
        },
        {
          "name": "stdout",
          "output_type": "stream",
          "text": [
            "Epoch 12, Train Loss: 0.0303, Validation Loss: 0.0302\n"
          ]
        },
        {
          "name": "stderr",
          "output_type": "stream",
          "text": [
            "100%|██████████| 235/235 [00:02<00:00, 80.07it/s]\n"
          ]
        },
        {
          "name": "stdout",
          "output_type": "stream",
          "text": [
            "Epoch 13, Train Loss: 0.0300, Validation Loss: 0.0301\n"
          ]
        },
        {
          "name": "stderr",
          "output_type": "stream",
          "text": [
            "100%|██████████| 235/235 [00:03<00:00, 67.14it/s]\n"
          ]
        },
        {
          "name": "stdout",
          "output_type": "stream",
          "text": [
            "Epoch 14, Train Loss: 0.0297, Validation Loss: 0.0295\n"
          ]
        },
        {
          "name": "stderr",
          "output_type": "stream",
          "text": [
            "100%|██████████| 235/235 [00:02<00:00, 81.01it/s]\n"
          ]
        },
        {
          "name": "stdout",
          "output_type": "stream",
          "text": [
            "Epoch 15, Train Loss: 0.0294, Validation Loss: 0.0296\n"
          ]
        },
        {
          "name": "stderr",
          "output_type": "stream",
          "text": [
            "100%|██████████| 235/235 [00:02<00:00, 83.61it/s]\n"
          ]
        },
        {
          "name": "stdout",
          "output_type": "stream",
          "text": [
            "Epoch 16, Train Loss: 0.0293, Validation Loss: 0.0289\n"
          ]
        },
        {
          "name": "stderr",
          "output_type": "stream",
          "text": [
            "100%|██████████| 235/235 [00:02<00:00, 80.82it/s]\n"
          ]
        },
        {
          "name": "stdout",
          "output_type": "stream",
          "text": [
            "Epoch 17, Train Loss: 0.0291, Validation Loss: 0.0287\n"
          ]
        },
        {
          "name": "stderr",
          "output_type": "stream",
          "text": [
            "100%|██████████| 235/235 [00:03<00:00, 63.68it/s]\n"
          ]
        },
        {
          "name": "stdout",
          "output_type": "stream",
          "text": [
            "Epoch 18, Train Loss: 0.0289, Validation Loss: 0.0287\n"
          ]
        },
        {
          "name": "stderr",
          "output_type": "stream",
          "text": [
            "100%|██████████| 235/235 [00:02<00:00, 84.77it/s]\n"
          ]
        },
        {
          "name": "stdout",
          "output_type": "stream",
          "text": [
            "Epoch 19, Train Loss: 0.0287, Validation Loss: 0.0278\n"
          ]
        },
        {
          "name": "stderr",
          "output_type": "stream",
          "text": [
            "100%|██████████| 235/235 [00:02<00:00, 81.99it/s]\n"
          ]
        },
        {
          "name": "stdout",
          "output_type": "stream",
          "text": [
            "Epoch 20, Train Loss: 0.0286, Validation Loss: 0.0282\n"
          ]
        },
        {
          "name": "stderr",
          "output_type": "stream",
          "text": [
            "100%|██████████| 235/235 [00:02<00:00, 80.94it/s]\n"
          ]
        },
        {
          "name": "stdout",
          "output_type": "stream",
          "text": [
            "Epoch 21, Train Loss: 0.0285, Validation Loss: 0.0279\n"
          ]
        },
        {
          "name": "stderr",
          "output_type": "stream",
          "text": [
            "100%|██████████| 235/235 [00:03<00:00, 69.65it/s]\n"
          ]
        },
        {
          "name": "stdout",
          "output_type": "stream",
          "text": [
            "Epoch 22, Train Loss: 0.0283, Validation Loss: 0.0272\n"
          ]
        },
        {
          "name": "stderr",
          "output_type": "stream",
          "text": [
            "100%|██████████| 235/235 [00:02<00:00, 80.38it/s]\n"
          ]
        },
        {
          "name": "stdout",
          "output_type": "stream",
          "text": [
            "Epoch 23, Train Loss: 0.0282, Validation Loss: 0.0271\n"
          ]
        },
        {
          "name": "stderr",
          "output_type": "stream",
          "text": [
            "100%|██████████| 235/235 [00:02<00:00, 83.03it/s]\n"
          ]
        },
        {
          "name": "stdout",
          "output_type": "stream",
          "text": [
            "Epoch 24, Train Loss: 0.0281, Validation Loss: 0.0279\n"
          ]
        },
        {
          "name": "stderr",
          "output_type": "stream",
          "text": [
            "100%|██████████| 235/235 [00:02<00:00, 84.89it/s]\n"
          ]
        },
        {
          "name": "stdout",
          "output_type": "stream",
          "text": [
            "Epoch 25, Train Loss: 0.0280, Validation Loss: 0.0275\n"
          ]
        },
        {
          "name": "stderr",
          "output_type": "stream",
          "text": [
            "100%|██████████| 235/235 [00:03<00:00, 74.49it/s]\n"
          ]
        },
        {
          "name": "stdout",
          "output_type": "stream",
          "text": [
            "Epoch 26, Train Loss: 0.0280, Validation Loss: 0.0274\n"
          ]
        },
        {
          "name": "stderr",
          "output_type": "stream",
          "text": [
            "100%|██████████| 235/235 [00:03<00:00, 74.97it/s]\n"
          ]
        },
        {
          "name": "stdout",
          "output_type": "stream",
          "text": [
            "Epoch 27, Train Loss: 0.0278, Validation Loss: 0.0272\n"
          ]
        },
        {
          "name": "stderr",
          "output_type": "stream",
          "text": [
            "100%|██████████| 235/235 [00:02<00:00, 82.75it/s]\n"
          ]
        },
        {
          "name": "stdout",
          "output_type": "stream",
          "text": [
            "Epoch 28, Train Loss: 0.0278, Validation Loss: 0.0272\n"
          ]
        },
        {
          "name": "stderr",
          "output_type": "stream",
          "text": [
            "100%|██████████| 235/235 [00:02<00:00, 86.32it/s]\n"
          ]
        },
        {
          "name": "stdout",
          "output_type": "stream",
          "text": [
            "Epoch 29, Train Loss: 0.0277, Validation Loss: 0.0278\n"
          ]
        },
        {
          "name": "stderr",
          "output_type": "stream",
          "text": [
            "100%|██████████| 235/235 [00:03<00:00, 75.13it/s]\n"
          ]
        },
        {
          "name": "stdout",
          "output_type": "stream",
          "text": [
            "Epoch 30, Train Loss: 0.0277, Validation Loss: 0.0271\n"
          ]
        },
        {
          "name": "stderr",
          "output_type": "stream",
          "text": [
            "100%|██████████| 235/235 [00:03<00:00, 59.50it/s]\n"
          ]
        },
        {
          "name": "stdout",
          "output_type": "stream",
          "text": [
            "Epoch 31, Train Loss: 0.0275, Validation Loss: 0.0260\n"
          ]
        },
        {
          "name": "stderr",
          "output_type": "stream",
          "text": [
            "100%|██████████| 235/235 [00:02<00:00, 83.60it/s]\n"
          ]
        },
        {
          "name": "stdout",
          "output_type": "stream",
          "text": [
            "Epoch 32, Train Loss: 0.0276, Validation Loss: 0.0262\n"
          ]
        },
        {
          "name": "stderr",
          "output_type": "stream",
          "text": [
            "100%|██████████| 235/235 [00:02<00:00, 81.97it/s]\n"
          ]
        },
        {
          "name": "stdout",
          "output_type": "stream",
          "text": [
            "Epoch 33, Train Loss: 0.0274, Validation Loss: 0.0261\n"
          ]
        },
        {
          "name": "stderr",
          "output_type": "stream",
          "text": [
            "100%|██████████| 235/235 [00:03<00:00, 69.66it/s]\n"
          ]
        },
        {
          "name": "stdout",
          "output_type": "stream",
          "text": [
            "Epoch 34, Train Loss: 0.0273, Validation Loss: 0.0259\n"
          ]
        },
        {
          "name": "stderr",
          "output_type": "stream",
          "text": [
            "100%|██████████| 235/235 [00:02<00:00, 80.72it/s]\n"
          ]
        },
        {
          "name": "stdout",
          "output_type": "stream",
          "text": [
            "Epoch 35, Train Loss: 0.0274, Validation Loss: 0.0260\n"
          ]
        },
        {
          "name": "stderr",
          "output_type": "stream",
          "text": [
            "100%|██████████| 235/235 [00:02<00:00, 86.08it/s]\n"
          ]
        },
        {
          "name": "stdout",
          "output_type": "stream",
          "text": [
            "Epoch 36, Train Loss: 0.0272, Validation Loss: 0.0262\n"
          ]
        },
        {
          "name": "stderr",
          "output_type": "stream",
          "text": [
            "100%|██████████| 235/235 [00:02<00:00, 82.75it/s]\n"
          ]
        },
        {
          "name": "stdout",
          "output_type": "stream",
          "text": [
            "Epoch 37, Train Loss: 0.0272, Validation Loss: 0.0256\n"
          ]
        },
        {
          "name": "stderr",
          "output_type": "stream",
          "text": [
            "100%|██████████| 235/235 [00:04<00:00, 47.26it/s]\n"
          ]
        },
        {
          "name": "stdout",
          "output_type": "stream",
          "text": [
            "Epoch 38, Train Loss: 0.0271, Validation Loss: 0.0262\n"
          ]
        },
        {
          "name": "stderr",
          "output_type": "stream",
          "text": [
            "100%|██████████| 235/235 [00:03<00:00, 60.36it/s]\n"
          ]
        },
        {
          "name": "stdout",
          "output_type": "stream",
          "text": [
            "Epoch 39, Train Loss: 0.0270, Validation Loss: 0.0257\n"
          ]
        },
        {
          "name": "stderr",
          "output_type": "stream",
          "text": [
            "100%|██████████| 235/235 [00:02<00:00, 81.16it/s]\n"
          ]
        },
        {
          "name": "stdout",
          "output_type": "stream",
          "text": [
            "Epoch 40, Train Loss: 0.0271, Validation Loss: 0.0260\n"
          ]
        },
        {
          "name": "stderr",
          "output_type": "stream",
          "text": [
            "100%|██████████| 235/235 [00:02<00:00, 78.66it/s]\n"
          ]
        },
        {
          "name": "stdout",
          "output_type": "stream",
          "text": [
            "Epoch 41, Train Loss: 0.0269, Validation Loss: 0.0258\n"
          ]
        },
        {
          "name": "stderr",
          "output_type": "stream",
          "text": [
            "100%|██████████| 235/235 [00:03<00:00, 67.68it/s]\n"
          ]
        },
        {
          "name": "stdout",
          "output_type": "stream",
          "text": [
            "Epoch 42, Train Loss: 0.0269, Validation Loss: 0.0261\n"
          ]
        },
        {
          "name": "stderr",
          "output_type": "stream",
          "text": [
            "100%|██████████| 235/235 [00:03<00:00, 66.21it/s]\n"
          ]
        },
        {
          "name": "stdout",
          "output_type": "stream",
          "text": [
            "Epoch 43, Train Loss: 0.0268, Validation Loss: 0.0256\n"
          ]
        },
        {
          "name": "stderr",
          "output_type": "stream",
          "text": [
            "100%|██████████| 235/235 [00:02<00:00, 82.60it/s]\n"
          ]
        },
        {
          "name": "stdout",
          "output_type": "stream",
          "text": [
            "Epoch 44, Train Loss: 0.0269, Validation Loss: 0.0251\n"
          ]
        },
        {
          "name": "stderr",
          "output_type": "stream",
          "text": [
            "100%|██████████| 235/235 [00:03<00:00, 72.59it/s]\n"
          ]
        },
        {
          "name": "stdout",
          "output_type": "stream",
          "text": [
            "Epoch 45, Train Loss: 0.0267, Validation Loss: 0.0255\n"
          ]
        },
        {
          "name": "stderr",
          "output_type": "stream",
          "text": [
            "100%|██████████| 235/235 [00:03<00:00, 68.89it/s]\n"
          ]
        },
        {
          "name": "stdout",
          "output_type": "stream",
          "text": [
            "Epoch 46, Train Loss: 0.0268, Validation Loss: 0.0256\n"
          ]
        },
        {
          "name": "stderr",
          "output_type": "stream",
          "text": [
            "100%|██████████| 235/235 [00:02<00:00, 83.01it/s]\n"
          ]
        },
        {
          "name": "stdout",
          "output_type": "stream",
          "text": [
            "Epoch 47, Train Loss: 0.0266, Validation Loss: 0.0255\n"
          ]
        },
        {
          "name": "stderr",
          "output_type": "stream",
          "text": [
            "100%|██████████| 235/235 [00:02<00:00, 82.98it/s]\n"
          ]
        },
        {
          "name": "stdout",
          "output_type": "stream",
          "text": [
            "Epoch 48, Train Loss: 0.0267, Validation Loss: 0.0252\n"
          ]
        },
        {
          "name": "stderr",
          "output_type": "stream",
          "text": [
            "100%|██████████| 235/235 [00:03<00:00, 61.88it/s]\n"
          ]
        },
        {
          "name": "stdout",
          "output_type": "stream",
          "text": [
            "Epoch 49, Train Loss: 0.0266, Validation Loss: 0.0255\n"
          ]
        },
        {
          "name": "stderr",
          "output_type": "stream",
          "text": [
            "100%|██████████| 235/235 [00:03<00:00, 75.00it/s]\n"
          ]
        },
        {
          "name": "stdout",
          "output_type": "stream",
          "text": [
            "Epoch 50, Train Loss: 0.0265, Validation Loss: 0.0254\n"
          ]
        },
        {
          "data": {
            "image/png": "[encoded data removed]",
            "text/plain": [
              "<Figure size 1000x500 with 1 Axes>"
            ]
          },
          "metadata": {},
          "output_type": "display_data"
        }
      ],
      "source": [
        "import torch\n",
        "import torch.nn as nn\n",
        "import torch.optim as optim\n",
        "import numpy as np\n",
        "from torchvision import datasets, transforms\n",
        "import matplotlib.pyplot as plt\n",
        "from torch.utils.data import DataLoader, TensorDataset\n",
        "from tqdm import tqdm\n",
        "# For the dataset, we can use the fashion mnist in pytorch, but based on the handout, we will used the one in keras\n",
        "from tensorflow.keras.datasets import fashion_mnist\n",
        "(x_train, _), (x_test, _) = fashion_mnist.load_data()\n",
        "x_train = x_train.astype('float32') / 255.\n",
        "x_test = x_test.astype('float32') / 255.\n",
        "x_train = x_train.reshape((len(x_train), np.prod(x_train.shape[1:])))\n",
        "x_test = x_test.reshape((len(x_test), np.prod(x_test.shape[1:])))\n",
        "\n",
        "\n",
        "x_train = torch.tensor(x_train)\n",
        "x_test = torch.tensor(x_test)\n",
        "\n",
        "\n",
        "train_dataset = TensorDataset(x_train)\n",
        "test_dataset = TensorDataset(x_test)\n",
        "\n",
        "# Create data loaders\n",
        "train_loader = DataLoader(dataset=train_dataset, batch_size=256, shuffle=True)\n",
        "test_loader = DataLoader(dataset=test_dataset, batch_size=256, shuffle=False)\n",
        "\n",
        "# Define the autoencoder\n",
        "class Autoencoder(nn.Module):\n",
        "    def __init__(self, use_batch_norm = False):\n",
        "        super(Autoencoder, self).__init__()\n",
        "\n",
        "        self.use_batch_norm = use_batch_norm\n",
        "        # Encoder\n",
        "        if use_batch_norm:\n",
        "          self.encoder = nn.Sequential(\n",
        "              nn.Linear(784, 128),\n",
        "              nn.ReLU(True),\n",
        "              nn.Linear(128, 64),\n",
        "              nn.ReLU(True),\n",
        "              nn.Linear(64, 32),\n",
        "              nn.ReLU(True),\n",
        "              nn.BatchNorm1d(32), # using batch norm for the enforcing guassian part\n",
        "              nn.Linear(32, 2), #bottleneck layer\n",
        "              nn.ReLU(True)\n",
        "          )\n",
        "        else:\n",
        "            self.encoder = nn.Sequential(\n",
        "              nn.Linear(784, 128),\n",
        "              nn.ReLU(True),\n",
        "              nn.Linear(128, 64),\n",
        "              nn.ReLU(True),\n",
        "              nn.Linear(64, 32),\n",
        "              nn.ReLU(True),\n",
        "              nn.Linear(32, 2), #bottleneck layer\n",
        "              nn.ReLU(True)\n",
        "          )\n",
        "        # Decoder\n",
        "        self.decoder = nn.Sequential(\n",
        "            nn.Linear(2, 32),\n",
        "            nn.ReLU(True),\n",
        "            nn.Linear(32, 64),\n",
        "            nn.ReLU(True),\n",
        "            nn.Linear(64, 128),\n",
        "            nn.ReLU(True),\n",
        "            nn.Linear(128, 784),\n",
        "            nn.Sigmoid()\n",
        "        )\n",
        "\n",
        "    def forward(self, x):\n",
        "        x = self.encoder(x)\n",
        "        x = self.decoder(x)\n",
        "        return x\n",
        "\n",
        "autoencoder = Autoencoder()\n",
        "criterion = nn.MSELoss()\n",
        "optimizer = optim.Adam(autoencoder.parameters(), lr=0.001)\n",
        "\n",
        "# Train the autoencoder\n",
        "num_epochs = 50\n",
        "train_losses, val_losses = [], []\n",
        "\n",
        "for epoch in range(num_epochs):\n",
        "    train_loss = 0\n",
        "    for batch, in tqdm(train_loader):\n",
        "       # batch = batch[0]  # Unpack the tuple\n",
        "        optimizer.zero_grad()\n",
        "        outputs = autoencoder(batch)\n",
        "        loss = criterion(outputs, batch)\n",
        "        loss.backward()\n",
        "        optimizer.step()\n",
        "        train_loss += loss.item()\n",
        "\n",
        "    train_loss = train_loss / len(train_loader)\n",
        "    train_losses.append(train_loss)\n",
        "\n",
        "    # Evaluate\n",
        "    with torch.no_grad():\n",
        "        val_loss = 0\n",
        "        for batch, in test_loader:\n",
        "            batch = batch[0]  # Unpack the tuple\n",
        "            outputs = autoencoder(batch)\n",
        "            eval_loss = criterion(outputs, batch)\n",
        "            val_loss += eval_loss.item()\n",
        "        val_loss = val_loss / len(test_loader)\n",
        "        val_losses.append(val_loss)\n",
        "\n",
        "    print(f'Epoch {epoch+1}, Train Loss: {train_loss:.4f}, Validation Loss: {val_loss:.4f}')\n",
        "\n",
        "# Plot the training and validation loss\n",
        "plt.figure(figsize=(10, 5))\n",
        "plt.plot(train_losses, label='Train Loss')\n",
        "plt.plot(val_losses, label='Validation Loss')\n",
        "plt.title('Train and Validation Loss')\n",
        "plt.xlabel('Epochs')\n",
        "plt.ylabel('Loss')\n",
        "plt.legend()\n",
        "plt.show()\n"
      ]
    },
    {
      "cell_type": "markdown",
      "metadata": {
        "id": "XgeyRsmXSIhb"
      },
      "source": [
        "Visualizing 10 Test images"
      ]
    },
    {
      "cell_type": "code",
      "execution_count": null,
      "metadata": {
        "colab": {
          "base_uri": "https://localhost:8080/",
          "height": 336
        },
        "id": "5J2b2o3eSMYT",
        "outputId": "4dc47849-5124-4584-a091-003ae02ecd53"
      },
      "outputs": [
        {
          "data": {
            "image/png": "[encoded data removed]",
            "text/plain": [
              "<Figure size 2000x400 with 20 Axes>"
            ]
          },
          "metadata": {},
          "output_type": "display_data"
        }
      ],
      "source": [
        "import matplotlib.pyplot as plt\n",
        "import numpy as np\n",
        "\n",
        "# Select 10 random images from the test set\n",
        "autoencoder.eval()\n",
        "np.random.seed(0)\n",
        "random_test_images = np.random.randint(x_test.shape[0], size=10)\n",
        "# print(x_test[random_test_images].shape)\n",
        "with torch.no_grad():\n",
        "  decoded_imgs = autoencoder(x_test[random_test_images])\n",
        "\n",
        "\n",
        "plt.figure(figsize=(20, 4))\n",
        "for i, image_idx in enumerate(random_test_images):\n",
        "    # Original\n",
        "    ax = plt.subplot(2, 10, i + 1)\n",
        "    plt.imshow(x_test[image_idx].reshape(28, 28))\n",
        "    plt.gray()\n",
        "    ax.get_xaxis().set_visible(False)\n",
        "    ax.get_yaxis().set_visible(False)\n",
        "\n",
        "    # Reconstruction\n",
        "    ax = plt.subplot(2, 10, i + 1 + 10)\n",
        "    plt.imshow(decoded_imgs[i].reshape(28, 28))\n",
        "    plt.gray()\n",
        "    ax.get_xaxis().set_visible(False)\n",
        "    ax.get_yaxis().set_visible(False)\n",
        "plt.show()\n"
      ]
    },
    {
      "cell_type": "markdown",
      "metadata": {
        "id": "CT10MK5ZVoIq"
      },
      "source": [
        "#### Naive Generative Model"
      ]
    },
    {
      "cell_type": "code",
      "execution_count": null,
      "metadata": {
        "colab": {
          "base_uri": "https://localhost:8080/",
          "height": 168
        },
        "id": "5Jp4_kf4VtEX",
        "outputId": "b330f6c9-5cd1-473b-c95d-f64441fcb871"
      },
      "outputs": [
        {
          "data": {
            "image/png": "[encoded data removed]",
            "text/plain": [
              "<Figure size 2000x400 with 10 Axes>"
            ]
          },
          "metadata": {},
          "output_type": "display_data"
        }
      ],
      "source": [
        "\n",
        "\n",
        "\n",
        "# decoder\n",
        "autoencoder.eval()\n",
        "decoder = autoencoder.decoder\n",
        "\n",
        "\n",
        "random_inputs = torch.randn(10, 2)\n",
        "\n",
        "with torch.no_grad():\n",
        "  generated_images = decoder(random_inputs)\n",
        "\n",
        "# Plot the generated images\n",
        "plt.figure(figsize=(20, 4))\n",
        "for i in range(10):\n",
        "    ax = plt.subplot(1, 10, i + 1)\n",
        "    plt.imshow(generated_images[i].reshape(28, 28))\n",
        "    plt.gray()\n",
        "    ax.get_xaxis().set_visible(False)\n",
        "    ax.get_yaxis().set_visible(False)\n",
        "plt.show()\n"
      ]
    },
    {
      "cell_type": "markdown",
      "metadata": {
        "id": "E9PJvtI2WKxW"
      },
      "source": [
        "#### Forcing the AE to have Guassian Bottleneck"
      ]
    },
    {
      "cell_type": "code",
      "execution_count": null,
      "metadata": {
        "colab": {
          "base_uri": "https://localhost:8080/",
          "height": 1000
        },
        "id": "4Cn_SptUWQyt",
        "outputId": "ff61124d-7fdf-4de7-da64-8ca5bb86158e"
      },
      "outputs": [
        {
          "name": "stderr",
          "output_type": "stream",
          "text": [
            "100%|██████████| 235/235 [00:02<00:00, 88.54it/s] \n"
          ]
        },
        {
          "name": "stdout",
          "output_type": "stream",
          "text": [
            "Epoch 1, Train Loss: 0.0620, Validation Loss: 0.0443\n"
          ]
        },
        {
          "name": "stderr",
          "output_type": "stream",
          "text": [
            "100%|██████████| 235/235 [00:01<00:00, 123.77it/s]\n"
          ]
        },
        {
          "name": "stdout",
          "output_type": "stream",
          "text": [
            "Epoch 2, Train Loss: 0.0410, Validation Loss: 0.0387\n"
          ]
        },
        {
          "name": "stderr",
          "output_type": "stream",
          "text": [
            "100%|██████████| 235/235 [00:03<00:00, 69.56it/s]\n"
          ]
        },
        {
          "name": "stdout",
          "output_type": "stream",
          "text": [
            "Epoch 3, Train Loss: 0.0373, Validation Loss: 0.0368\n"
          ]
        },
        {
          "name": "stderr",
          "output_type": "stream",
          "text": [
            "100%|██████████| 235/235 [00:02<00:00, 95.91it/s]\n"
          ]
        },
        {
          "name": "stdout",
          "output_type": "stream",
          "text": [
            "Epoch 4, Train Loss: 0.0358, Validation Loss: 0.0353\n"
          ]
        },
        {
          "name": "stderr",
          "output_type": "stream",
          "text": [
            "100%|██████████| 235/235 [00:02<00:00, 97.38it/s]\n"
          ]
        },
        {
          "name": "stdout",
          "output_type": "stream",
          "text": [
            "Epoch 5, Train Loss: 0.0351, Validation Loss: 0.0350\n"
          ]
        },
        {
          "name": "stderr",
          "output_type": "stream",
          "text": [
            "100%|██████████| 235/235 [00:02<00:00, 95.76it/s]\n"
          ]
        },
        {
          "name": "stdout",
          "output_type": "stream",
          "text": [
            "Epoch 6, Train Loss: 0.0344, Validation Loss: 0.0342\n"
          ]
        },
        {
          "name": "stderr",
          "output_type": "stream",
          "text": [
            "100%|██████████| 235/235 [00:03<00:00, 65.04it/s]\n"
          ]
        },
        {
          "name": "stdout",
          "output_type": "stream",
          "text": [
            "Epoch 7, Train Loss: 0.0338, Validation Loss: 0.0340\n"
          ]
        },
        {
          "name": "stderr",
          "output_type": "stream",
          "text": [
            "100%|██████████| 235/235 [00:02<00:00, 88.31it/s]\n"
          ]
        },
        {
          "name": "stdout",
          "output_type": "stream",
          "text": [
            "Epoch 8, Train Loss: 0.0335, Validation Loss: 0.0339\n"
          ]
        },
        {
          "name": "stderr",
          "output_type": "stream",
          "text": [
            "100%|██████████| 235/235 [00:02<00:00, 96.55it/s]\n"
          ]
        },
        {
          "name": "stdout",
          "output_type": "stream",
          "text": [
            "Epoch 9, Train Loss: 0.0331, Validation Loss: 0.0329\n"
          ]
        },
        {
          "name": "stderr",
          "output_type": "stream",
          "text": [
            "100%|██████████| 235/235 [00:02<00:00, 91.73it/s]\n"
          ]
        },
        {
          "name": "stdout",
          "output_type": "stream",
          "text": [
            "Epoch 10, Train Loss: 0.0327, Validation Loss: 0.0331\n"
          ]
        },
        {
          "name": "stderr",
          "output_type": "stream",
          "text": [
            "100%|██████████| 235/235 [00:02<00:00, 91.96it/s]\n"
          ]
        },
        {
          "name": "stdout",
          "output_type": "stream",
          "text": [
            "Epoch 11, Train Loss: 0.0323, Validation Loss: 0.0326\n"
          ]
        },
        {
          "name": "stderr",
          "output_type": "stream",
          "text": [
            "100%|██████████| 235/235 [00:03<00:00, 71.96it/s]\n"
          ]
        },
        {
          "name": "stdout",
          "output_type": "stream",
          "text": [
            "Epoch 12, Train Loss: 0.0320, Validation Loss: 0.0320\n"
          ]
        },
        {
          "name": "stderr",
          "output_type": "stream",
          "text": [
            "100%|██████████| 235/235 [00:02<00:00, 86.23it/s]\n"
          ]
        },
        {
          "name": "stdout",
          "output_type": "stream",
          "text": [
            "Epoch 13, Train Loss: 0.0318, Validation Loss: 0.0323\n"
          ]
        },
        {
          "name": "stderr",
          "output_type": "stream",
          "text": [
            "100%|██████████| 235/235 [00:02<00:00, 92.84it/s]\n"
          ]
        },
        {
          "name": "stdout",
          "output_type": "stream",
          "text": [
            "Epoch 14, Train Loss: 0.0315, Validation Loss: 0.0324\n"
          ]
        },
        {
          "name": "stderr",
          "output_type": "stream",
          "text": [
            "100%|██████████| 235/235 [00:02<00:00, 95.32it/s]\n"
          ]
        },
        {
          "name": "stdout",
          "output_type": "stream",
          "text": [
            "Epoch 15, Train Loss: 0.0313, Validation Loss: 0.0312\n"
          ]
        },
        {
          "name": "stderr",
          "output_type": "stream",
          "text": [
            "100%|██████████| 235/235 [00:03<00:00, 75.52it/s]\n"
          ]
        },
        {
          "name": "stdout",
          "output_type": "stream",
          "text": [
            "Epoch 16, Train Loss: 0.0311, Validation Loss: 0.0321\n"
          ]
        },
        {
          "name": "stderr",
          "output_type": "stream",
          "text": [
            "100%|██████████| 235/235 [00:02<00:00, 91.08it/s]\n"
          ]
        },
        {
          "name": "stdout",
          "output_type": "stream",
          "text": [
            "Epoch 17, Train Loss: 0.0310, Validation Loss: 0.0312\n"
          ]
        },
        {
          "name": "stderr",
          "output_type": "stream",
          "text": [
            "100%|██████████| 235/235 [00:02<00:00, 95.24it/s]\n"
          ]
        },
        {
          "name": "stdout",
          "output_type": "stream",
          "text": [
            "Epoch 18, Train Loss: 0.0306, Validation Loss: 0.0310\n"
          ]
        },
        {
          "name": "stderr",
          "output_type": "stream",
          "text": [
            "100%|██████████| 235/235 [00:02<00:00, 96.00it/s]\n"
          ]
        },
        {
          "name": "stdout",
          "output_type": "stream",
          "text": [
            "Epoch 19, Train Loss: 0.0304, Validation Loss: 0.0312\n"
          ]
        },
        {
          "name": "stderr",
          "output_type": "stream",
          "text": [
            "100%|██████████| 235/235 [00:02<00:00, 90.46it/s]\n"
          ]
        },
        {
          "name": "stdout",
          "output_type": "stream",
          "text": [
            "Epoch 20, Train Loss: 0.0304, Validation Loss: 0.0308\n"
          ]
        },
        {
          "name": "stderr",
          "output_type": "stream",
          "text": [
            "100%|██████████| 235/235 [00:03<00:00, 71.27it/s]\n"
          ]
        },
        {
          "name": "stdout",
          "output_type": "stream",
          "text": [
            "Epoch 21, Train Loss: 0.0303, Validation Loss: 0.0306\n"
          ]
        },
        {
          "name": "stderr",
          "output_type": "stream",
          "text": [
            "100%|██████████| 235/235 [00:03<00:00, 66.97it/s]\n"
          ]
        },
        {
          "name": "stdout",
          "output_type": "stream",
          "text": [
            "Epoch 22, Train Loss: 0.0300, Validation Loss: 0.0305\n"
          ]
        },
        {
          "name": "stderr",
          "output_type": "stream",
          "text": [
            "100%|██████████| 235/235 [00:02<00:00, 78.83it/s]\n"
          ]
        },
        {
          "name": "stdout",
          "output_type": "stream",
          "text": [
            "Epoch 23, Train Loss: 0.0299, Validation Loss: 0.0309\n"
          ]
        },
        {
          "name": "stderr",
          "output_type": "stream",
          "text": [
            "100%|██████████| 235/235 [00:02<00:00, 79.37it/s]\n"
          ]
        },
        {
          "name": "stdout",
          "output_type": "stream",
          "text": [
            "Epoch 24, Train Loss: 0.0299, Validation Loss: 0.0303\n"
          ]
        },
        {
          "name": "stderr",
          "output_type": "stream",
          "text": [
            "100%|██████████| 235/235 [00:02<00:00, 78.71it/s]\n"
          ]
        },
        {
          "name": "stdout",
          "output_type": "stream",
          "text": [
            "Epoch 25, Train Loss: 0.0300, Validation Loss: 0.0302\n"
          ]
        },
        {
          "name": "stderr",
          "output_type": "stream",
          "text": [
            "100%|██████████| 235/235 [00:02<00:00, 90.95it/s]\n"
          ]
        },
        {
          "name": "stdout",
          "output_type": "stream",
          "text": [
            "Epoch 26, Train Loss: 0.0298, Validation Loss: 0.0299\n"
          ]
        },
        {
          "name": "stderr",
          "output_type": "stream",
          "text": [
            "100%|██████████| 235/235 [00:02<00:00, 90.47it/s]\n"
          ]
        },
        {
          "name": "stdout",
          "output_type": "stream",
          "text": [
            "Epoch 27, Train Loss: 0.0296, Validation Loss: 0.0301\n"
          ]
        },
        {
          "name": "stderr",
          "output_type": "stream",
          "text": [
            "100%|██████████| 235/235 [00:02<00:00, 91.02it/s]\n"
          ]
        },
        {
          "name": "stdout",
          "output_type": "stream",
          "text": [
            "Epoch 28, Train Loss: 0.0296, Validation Loss: 0.0301\n"
          ]
        },
        {
          "name": "stderr",
          "output_type": "stream",
          "text": [
            "100%|██████████| 235/235 [00:03<00:00, 71.12it/s]\n"
          ]
        },
        {
          "name": "stdout",
          "output_type": "stream",
          "text": [
            "Epoch 29, Train Loss: 0.0294, Validation Loss: 0.0300\n"
          ]
        },
        {
          "name": "stderr",
          "output_type": "stream",
          "text": [
            "100%|██████████| 235/235 [00:02<00:00, 89.10it/s]\n"
          ]
        },
        {
          "name": "stdout",
          "output_type": "stream",
          "text": [
            "Epoch 30, Train Loss: 0.0293, Validation Loss: 0.0297\n"
          ]
        },
        {
          "name": "stderr",
          "output_type": "stream",
          "text": [
            "100%|██████████| 235/235 [00:02<00:00, 89.18it/s]\n"
          ]
        },
        {
          "name": "stdout",
          "output_type": "stream",
          "text": [
            "Epoch 31, Train Loss: 0.0291, Validation Loss: 0.0303\n"
          ]
        },
        {
          "name": "stderr",
          "output_type": "stream",
          "text": [
            "100%|██████████| 235/235 [00:02<00:00, 91.77it/s]\n"
          ]
        },
        {
          "name": "stdout",
          "output_type": "stream",
          "text": [
            "Epoch 32, Train Loss: 0.0293, Validation Loss: 0.0302\n"
          ]
        },
        {
          "name": "stderr",
          "output_type": "stream",
          "text": [
            "100%|██████████| 235/235 [00:03<00:00, 65.43it/s]\n"
          ]
        },
        {
          "name": "stdout",
          "output_type": "stream",
          "text": [
            "Epoch 33, Train Loss: 0.0293, Validation Loss: 0.0309\n"
          ]
        },
        {
          "name": "stderr",
          "output_type": "stream",
          "text": [
            "100%|██████████| 235/235 [00:02<00:00, 88.18it/s]\n"
          ]
        },
        {
          "name": "stdout",
          "output_type": "stream",
          "text": [
            "Epoch 34, Train Loss: 0.0291, Validation Loss: 0.0297\n"
          ]
        },
        {
          "name": "stderr",
          "output_type": "stream",
          "text": [
            "100%|██████████| 235/235 [00:02<00:00, 86.73it/s]\n"
          ]
        },
        {
          "name": "stdout",
          "output_type": "stream",
          "text": [
            "Epoch 35, Train Loss: 0.0290, Validation Loss: 0.0296\n"
          ]
        },
        {
          "name": "stderr",
          "output_type": "stream",
          "text": [
            "100%|██████████| 235/235 [00:02<00:00, 87.00it/s]\n"
          ]
        },
        {
          "name": "stdout",
          "output_type": "stream",
          "text": [
            "Epoch 36, Train Loss: 0.0289, Validation Loss: 0.0294\n"
          ]
        },
        {
          "name": "stderr",
          "output_type": "stream",
          "text": [
            "100%|██████████| 235/235 [00:03<00:00, 71.35it/s]\n"
          ]
        },
        {
          "name": "stdout",
          "output_type": "stream",
          "text": [
            "Epoch 37, Train Loss: 0.0289, Validation Loss: 0.0302\n"
          ]
        },
        {
          "name": "stderr",
          "output_type": "stream",
          "text": [
            "100%|██████████| 235/235 [00:02<00:00, 91.13it/s]\n"
          ]
        },
        {
          "name": "stdout",
          "output_type": "stream",
          "text": [
            "Epoch 38, Train Loss: 0.0288, Validation Loss: 0.0297\n"
          ]
        },
        {
          "name": "stderr",
          "output_type": "stream",
          "text": [
            "100%|██████████| 235/235 [00:02<00:00, 89.60it/s]\n"
          ]
        },
        {
          "name": "stdout",
          "output_type": "stream",
          "text": [
            "Epoch 39, Train Loss: 0.0286, Validation Loss: 0.0293\n"
          ]
        },
        {
          "name": "stderr",
          "output_type": "stream",
          "text": [
            "100%|██████████| 235/235 [00:02<00:00, 91.06it/s]\n"
          ]
        },
        {
          "name": "stdout",
          "output_type": "stream",
          "text": [
            "Epoch 40, Train Loss: 0.0287, Validation Loss: 0.0294\n"
          ]
        },
        {
          "name": "stderr",
          "output_type": "stream",
          "text": [
            "100%|██████████| 235/235 [00:03<00:00, 77.31it/s]\n"
          ]
        },
        {
          "name": "stdout",
          "output_type": "stream",
          "text": [
            "Epoch 41, Train Loss: 0.0288, Validation Loss: 0.0292\n"
          ]
        },
        {
          "name": "stderr",
          "output_type": "stream",
          "text": [
            "100%|██████████| 235/235 [00:02<00:00, 80.89it/s]\n"
          ]
        },
        {
          "name": "stdout",
          "output_type": "stream",
          "text": [
            "Epoch 42, Train Loss: 0.0286, Validation Loss: 0.0290\n"
          ]
        },
        {
          "name": "stderr",
          "output_type": "stream",
          "text": [
            "100%|██████████| 235/235 [00:02<00:00, 84.36it/s]\n"
          ]
        },
        {
          "name": "stdout",
          "output_type": "stream",
          "text": [
            "Epoch 43, Train Loss: 0.0286, Validation Loss: 0.0293\n"
          ]
        },
        {
          "name": "stderr",
          "output_type": "stream",
          "text": [
            "100%|██████████| 235/235 [00:02<00:00, 90.19it/s]\n"
          ]
        },
        {
          "name": "stdout",
          "output_type": "stream",
          "text": [
            "Epoch 44, Train Loss: 0.0285, Validation Loss: 0.0299\n"
          ]
        },
        {
          "name": "stderr",
          "output_type": "stream",
          "text": [
            "100%|██████████| 235/235 [00:02<00:00, 88.44it/s]\n"
          ]
        },
        {
          "name": "stdout",
          "output_type": "stream",
          "text": [
            "Epoch 45, Train Loss: 0.0285, Validation Loss: 0.0296\n"
          ]
        },
        {
          "name": "stderr",
          "output_type": "stream",
          "text": [
            "100%|██████████| 235/235 [00:03<00:00, 71.00it/s]\n"
          ]
        },
        {
          "name": "stdout",
          "output_type": "stream",
          "text": [
            "Epoch 46, Train Loss: 0.0285, Validation Loss: 0.0291\n"
          ]
        },
        {
          "name": "stderr",
          "output_type": "stream",
          "text": [
            "100%|██████████| 235/235 [00:02<00:00, 89.85it/s]\n"
          ]
        },
        {
          "name": "stdout",
          "output_type": "stream",
          "text": [
            "Epoch 47, Train Loss: 0.0284, Validation Loss: 0.0294\n"
          ]
        },
        {
          "name": "stderr",
          "output_type": "stream",
          "text": [
            "100%|██████████| 235/235 [00:02<00:00, 89.63it/s]\n"
          ]
        },
        {
          "name": "stdout",
          "output_type": "stream",
          "text": [
            "Epoch 48, Train Loss: 0.0282, Validation Loss: 0.0293\n"
          ]
        },
        {
          "name": "stderr",
          "output_type": "stream",
          "text": [
            "100%|██████████| 235/235 [00:02<00:00, 88.43it/s]\n"
          ]
        },
        {
          "name": "stdout",
          "output_type": "stream",
          "text": [
            "Epoch 49, Train Loss: 0.0284, Validation Loss: 0.0289\n"
          ]
        },
        {
          "name": "stderr",
          "output_type": "stream",
          "text": [
            "100%|██████████| 235/235 [00:03<00:00, 69.66it/s]\n"
          ]
        },
        {
          "name": "stdout",
          "output_type": "stream",
          "text": [
            "Epoch 50, Train Loss: 0.0282, Validation Loss: 0.0289\n"
          ]
        },
        {
          "name": "stderr",
          "output_type": "stream",
          "text": [
            "100%|██████████| 235/235 [00:02<00:00, 88.82it/s]\n"
          ]
        },
        {
          "name": "stdout",
          "output_type": "stream",
          "text": [
            "Epoch 51, Train Loss: 0.0281, Validation Loss: 0.0288\n"
          ]
        },
        {
          "name": "stderr",
          "output_type": "stream",
          "text": [
            "100%|██████████| 235/235 [00:02<00:00, 86.84it/s]\n"
          ]
        },
        {
          "name": "stdout",
          "output_type": "stream",
          "text": [
            "Epoch 52, Train Loss: 0.0282, Validation Loss: 0.0291\n"
          ]
        },
        {
          "name": "stderr",
          "output_type": "stream",
          "text": [
            "100%|██████████| 235/235 [00:02<00:00, 82.74it/s]\n"
          ]
        },
        {
          "name": "stdout",
          "output_type": "stream",
          "text": [
            "Epoch 53, Train Loss: 0.0282, Validation Loss: 0.0288\n"
          ]
        },
        {
          "name": "stderr",
          "output_type": "stream",
          "text": [
            "100%|██████████| 235/235 [00:04<00:00, 54.63it/s]\n"
          ]
        },
        {
          "name": "stdout",
          "output_type": "stream",
          "text": [
            "Epoch 54, Train Loss: 0.0281, Validation Loss: 0.0291\n"
          ]
        },
        {
          "name": "stderr",
          "output_type": "stream",
          "text": [
            "100%|██████████| 235/235 [00:02<00:00, 92.12it/s]\n"
          ]
        },
        {
          "name": "stdout",
          "output_type": "stream",
          "text": [
            "Epoch 55, Train Loss: 0.0279, Validation Loss: 0.0285\n"
          ]
        },
        {
          "name": "stderr",
          "output_type": "stream",
          "text": [
            "100%|██████████| 235/235 [00:02<00:00, 90.83it/s]\n"
          ]
        },
        {
          "name": "stdout",
          "output_type": "stream",
          "text": [
            "Epoch 56, Train Loss: 0.0280, Validation Loss: 0.0287\n"
          ]
        },
        {
          "name": "stderr",
          "output_type": "stream",
          "text": [
            "100%|██████████| 235/235 [00:02<00:00, 90.83it/s]\n"
          ]
        },
        {
          "name": "stdout",
          "output_type": "stream",
          "text": [
            "Epoch 57, Train Loss: 0.0280, Validation Loss: 0.0286\n"
          ]
        },
        {
          "name": "stderr",
          "output_type": "stream",
          "text": [
            "100%|██████████| 235/235 [00:03<00:00, 58.96it/s]\n"
          ]
        },
        {
          "name": "stdout",
          "output_type": "stream",
          "text": [
            "Epoch 58, Train Loss: 0.0279, Validation Loss: 0.0286\n"
          ]
        },
        {
          "name": "stderr",
          "output_type": "stream",
          "text": [
            "100%|██████████| 235/235 [00:02<00:00, 88.86it/s]\n"
          ]
        },
        {
          "name": "stdout",
          "output_type": "stream",
          "text": [
            "Epoch 59, Train Loss: 0.0279, Validation Loss: 0.0285\n"
          ]
        },
        {
          "name": "stderr",
          "output_type": "stream",
          "text": [
            "100%|██████████| 235/235 [00:02<00:00, 88.31it/s]\n"
          ]
        },
        {
          "name": "stdout",
          "output_type": "stream",
          "text": [
            "Epoch 60, Train Loss: 0.0278, Validation Loss: 0.0286\n"
          ]
        },
        {
          "name": "stderr",
          "output_type": "stream",
          "text": [
            "100%|██████████| 235/235 [00:02<00:00, 86.66it/s]\n"
          ]
        },
        {
          "name": "stdout",
          "output_type": "stream",
          "text": [
            "Epoch 61, Train Loss: 0.0279, Validation Loss: 0.0286\n"
          ]
        },
        {
          "name": "stderr",
          "output_type": "stream",
          "text": [
            "100%|██████████| 235/235 [00:03<00:00, 70.93it/s]\n"
          ]
        },
        {
          "name": "stdout",
          "output_type": "stream",
          "text": [
            "Epoch 62, Train Loss: 0.0276, Validation Loss: 0.0288\n"
          ]
        },
        {
          "name": "stderr",
          "output_type": "stream",
          "text": [
            "100%|██████████| 235/235 [00:03<00:00, 72.50it/s]\n"
          ]
        },
        {
          "name": "stdout",
          "output_type": "stream",
          "text": [
            "Epoch 63, Train Loss: 0.0279, Validation Loss: 0.0287\n"
          ]
        },
        {
          "name": "stderr",
          "output_type": "stream",
          "text": [
            "100%|██████████| 235/235 [00:05<00:00, 43.69it/s]\n"
          ]
        },
        {
          "name": "stdout",
          "output_type": "stream",
          "text": [
            "Epoch 64, Train Loss: 0.0278, Validation Loss: 0.0286\n"
          ]
        },
        {
          "name": "stderr",
          "output_type": "stream",
          "text": [
            "100%|██████████| 235/235 [00:06<00:00, 37.32it/s]\n"
          ]
        },
        {
          "name": "stdout",
          "output_type": "stream",
          "text": [
            "Epoch 65, Train Loss: 0.0277, Validation Loss: 0.0286\n"
          ]
        },
        {
          "name": "stderr",
          "output_type": "stream",
          "text": [
            "100%|██████████| 235/235 [00:04<00:00, 52.21it/s]\n"
          ]
        },
        {
          "name": "stdout",
          "output_type": "stream",
          "text": [
            "Epoch 66, Train Loss: 0.0277, Validation Loss: 0.0286\n"
          ]
        },
        {
          "name": "stderr",
          "output_type": "stream",
          "text": [
            "100%|██████████| 235/235 [00:03<00:00, 68.11it/s]\n"
          ]
        },
        {
          "name": "stdout",
          "output_type": "stream",
          "text": [
            "Epoch 67, Train Loss: 0.0276, Validation Loss: 0.0288\n"
          ]
        },
        {
          "name": "stderr",
          "output_type": "stream",
          "text": [
            "100%|██████████| 235/235 [00:02<00:00, 81.59it/s]\n"
          ]
        },
        {
          "name": "stdout",
          "output_type": "stream",
          "text": [
            "Epoch 68, Train Loss: 0.0276, Validation Loss: 0.0282\n"
          ]
        },
        {
          "name": "stderr",
          "output_type": "stream",
          "text": [
            "100%|██████████| 235/235 [00:02<00:00, 89.29it/s]\n"
          ]
        },
        {
          "name": "stdout",
          "output_type": "stream",
          "text": [
            "Epoch 69, Train Loss: 0.0276, Validation Loss: 0.0290\n"
          ]
        },
        {
          "name": "stderr",
          "output_type": "stream",
          "text": [
            "100%|██████████| 235/235 [00:02<00:00, 86.83it/s]\n"
          ]
        },
        {
          "name": "stdout",
          "output_type": "stream",
          "text": [
            "Epoch 70, Train Loss: 0.0276, Validation Loss: 0.0283\n"
          ]
        },
        {
          "name": "stderr",
          "output_type": "stream",
          "text": [
            "100%|██████████| 235/235 [00:03<00:00, 74.25it/s]\n"
          ]
        },
        {
          "name": "stdout",
          "output_type": "stream",
          "text": [
            "Epoch 71, Train Loss: 0.0274, Validation Loss: 0.0282\n"
          ]
        },
        {
          "name": "stderr",
          "output_type": "stream",
          "text": [
            "100%|██████████| 235/235 [00:03<00:00, 77.61it/s]\n"
          ]
        },
        {
          "name": "stdout",
          "output_type": "stream",
          "text": [
            "Epoch 72, Train Loss: 0.0275, Validation Loss: 0.0284\n"
          ]
        },
        {
          "name": "stderr",
          "output_type": "stream",
          "text": [
            "100%|██████████| 235/235 [00:02<00:00, 88.55it/s]\n"
          ]
        },
        {
          "name": "stdout",
          "output_type": "stream",
          "text": [
            "Epoch 73, Train Loss: 0.0273, Validation Loss: 0.0279\n"
          ]
        },
        {
          "name": "stderr",
          "output_type": "stream",
          "text": [
            "100%|██████████| 235/235 [00:03<00:00, 77.59it/s]\n"
          ]
        },
        {
          "name": "stdout",
          "output_type": "stream",
          "text": [
            "Epoch 74, Train Loss: 0.0273, Validation Loss: 0.0281\n"
          ]
        },
        {
          "name": "stderr",
          "output_type": "stream",
          "text": [
            "100%|██████████| 235/235 [00:03<00:00, 75.95it/s]\n"
          ]
        },
        {
          "name": "stdout",
          "output_type": "stream",
          "text": [
            "Epoch 75, Train Loss: 0.0274, Validation Loss: 0.0285\n"
          ]
        },
        {
          "name": "stderr",
          "output_type": "stream",
          "text": [
            "100%|██████████| 235/235 [00:02<00:00, 80.40it/s]\n"
          ]
        },
        {
          "name": "stdout",
          "output_type": "stream",
          "text": [
            "Epoch 76, Train Loss: 0.0273, Validation Loss: 0.0282\n"
          ]
        },
        {
          "name": "stderr",
          "output_type": "stream",
          "text": [
            "100%|██████████| 235/235 [00:02<00:00, 84.93it/s]\n"
          ]
        },
        {
          "name": "stdout",
          "output_type": "stream",
          "text": [
            "Epoch 77, Train Loss: 0.0273, Validation Loss: 0.0281\n"
          ]
        },
        {
          "name": "stderr",
          "output_type": "stream",
          "text": [
            "100%|██████████| 235/235 [00:02<00:00, 81.28it/s]\n"
          ]
        },
        {
          "name": "stdout",
          "output_type": "stream",
          "text": [
            "Epoch 78, Train Loss: 0.0275, Validation Loss: 0.0287\n"
          ]
        },
        {
          "name": "stderr",
          "output_type": "stream",
          "text": [
            "100%|██████████| 235/235 [00:03<00:00, 73.88it/s]\n"
          ]
        },
        {
          "name": "stdout",
          "output_type": "stream",
          "text": [
            "Epoch 79, Train Loss: 0.0272, Validation Loss: 0.0279\n"
          ]
        },
        {
          "name": "stderr",
          "output_type": "stream",
          "text": [
            "100%|██████████| 235/235 [00:03<00:00, 74.85it/s]\n"
          ]
        },
        {
          "name": "stdout",
          "output_type": "stream",
          "text": [
            "Epoch 80, Train Loss: 0.0273, Validation Loss: 0.0279\n"
          ]
        },
        {
          "data": {
            "image/png": "[encoded data removed]",
            "text/plain": [
              "<Figure size 1000x500 with 1 Axes>"
            ]
          },
          "metadata": {},
          "output_type": "display_data"
        }
      ],
      "source": [
        "\n",
        "(x_train, _), (x_test, _) = fashion_mnist.load_data()\n",
        "x_train = x_train.astype('float32') / 255.\n",
        "x_test = x_test.astype('float32') / 255.\n",
        "x_train = x_train.reshape((len(x_train), np.prod(x_train.shape[1:])))\n",
        "x_test = x_test.reshape((len(x_test), np.prod(x_test.shape[1:])))\n",
        "\n",
        "\n",
        "x_train = torch.tensor(x_train)\n",
        "x_test = torch.tensor(x_test)\n",
        "\n",
        "\n",
        "train_dataset = TensorDataset(x_train)\n",
        "test_dataset = TensorDataset(x_test)\n",
        "\n",
        "# Create data loaders\n",
        "train_loader = DataLoader(dataset=train_dataset, batch_size=256, shuffle=True)\n",
        "test_loader = DataLoader(dataset=test_dataset, batch_size=256, shuffle=False)\n",
        "autoencoder_with_batch_norm = Autoencoder(use_batch_norm= True)\n",
        "criterion = nn.MSELoss()\n",
        "optimizer = optim.Adam(autoencoder_with_batch_norm.parameters(), lr=0.001)\n",
        "\n",
        "# Train the autoencoder\n",
        "num_epochs = 80\n",
        "train_losses, val_losses = [], []\n",
        "\n",
        "for epoch in range(num_epochs):\n",
        "    train_loss = 0\n",
        "    for batch, in tqdm(train_loader):\n",
        "        optimizer.zero_grad()\n",
        "        outputs = autoencoder_with_batch_norm(batch)\n",
        "        loss = criterion(outputs, batch)\n",
        "        loss.backward()\n",
        "        optimizer.step()\n",
        "        train_loss += loss.item()\n",
        "\n",
        "    train_loss = train_loss / len(train_loader)\n",
        "    train_losses.append(train_loss)\n",
        "\n",
        "    # Evaluate\n",
        "    with torch.no_grad():\n",
        "        val_loss = 0\n",
        "        for batch, in test_loader:\n",
        "            batch = batch\n",
        "            outputs = autoencoder_with_batch_norm(batch)\n",
        "            eval_loss = criterion(outputs, batch)\n",
        "            val_loss += eval_loss.item()\n",
        "        val_loss = val_loss / len(test_loader)\n",
        "        val_losses.append(val_loss)\n",
        "\n",
        "    print(f'Epoch {epoch+1}, Train Loss: {train_loss:.4f}, Validation Loss: {val_loss:.4f}')\n",
        "\n",
        "# Plot the training and validation loss\n",
        "plt.figure(figsize=(10, 5))\n",
        "plt.plot(train_losses, label='Train Loss')\n",
        "plt.plot(val_losses, label='Validation Loss')\n",
        "plt.title('Train and Validation Loss')\n",
        "plt.xlabel('Epochs')\n",
        "plt.ylabel('Loss')\n",
        "plt.legend()\n",
        "plt.show()"
      ]
    },
    {
      "cell_type": "code",
      "execution_count": null,
      "metadata": {
        "colab": {
          "base_uri": "https://localhost:8080/",
          "height": 168
        },
        "id": "2glqrfA9NNhw",
        "outputId": "67df1c99-221f-4abd-8cc1-4fcd0408b2a4"
      },
      "outputs": [
        {
          "data": {
            "image/png": "[encoded data removed]",
            "text/plain": [
              "<Figure size 2000x400 with 10 Axes>"
            ]
          },
          "metadata": {},
          "output_type": "display_data"
        }
      ],
      "source": [
        "# decoder\n",
        "autoencoder_with_batch_norm.eval()\n",
        "decoder = autoencoder_with_batch_norm.decoder\n",
        "\n",
        "\n",
        "random_inputs = torch.randn(10, 2)\n",
        "\n",
        "with torch.no_grad():\n",
        "  generated_images = decoder(random_inputs)\n",
        "\n",
        "# Plot the generated images\n",
        "plt.figure(figsize=(20, 4))\n",
        "for i in range(10):\n",
        "    ax = plt.subplot(1, 10, i + 1)\n",
        "    plt.imshow(generated_images[i].reshape(28, 28))\n",
        "    plt.gray()\n",
        "    ax.get_xaxis().set_visible(False)\n",
        "    ax.get_yaxis().set_visible(False)\n",
        "plt.show()"
      ]
    },
    {
      "cell_type": "markdown",
      "metadata": {
        "id": "ERMea2h4a-Hm"
      },
      "source": [
        "#### Reason Why Enforcing Guassian works better:\n",
        "\n"
      ]
    },
    {
      "cell_type": "markdown",
      "metadata": {
        "id": "_Fdku0p0bGee"
      },
      "source": [
        "As It can be witnessed, enforcing the normalization to our approximated posterior improves the generated images. The reason is that with this act, we are actually forcing our apporoximate posterior q(Z|X) to be close to our prior P(Z), which had a form of N(0,1). Note that for the prior, we assume the embedding dimensions to be each guassian, and also independent, we each is reasonable. Furthermore, this assumption is also reasonable for the posterior, because although we are conditioning on an input, but still in the space conditioned on that input, we expect the features of our embedding to be independent (ommitting the common shared features and capturing those that make the difference between the inputs from that class) and each conform to a Guassian. All in all, through this act, we are improving the parameters that are learned for the approximate posterior in our bottleneck layer."
      ]
    },
    {
      "cell_type": "markdown",
      "metadata": {
        "id": "bdr3x4ykUYR6"
      },
      "source": [
        "### Advanced Generative Model"
      ]
    },
    {
      "cell_type": "markdown",
      "metadata": {
        "id": "rD-EERE_UhuK"
      },
      "source": [
        "#### VAE\n"
      ]
    },
    {
      "cell_type": "code",
      "execution_count": null,
      "metadata": {
        "id": "YSNL4ouwNNhw"
      },
      "outputs": [],
      "source": [
        "import torch\n",
        "import torch.nn as nn\n",
        "import torch.nn.functional as F\n",
        "from torch.distributions import Normal, kl_divergence\n",
        "import matplotlib.pyplot as plt\n",
        "from tqdm import tqdm\n",
        "import torch.optim as optim\n",
        "import numpy as np\n",
        "from torchvision import datasets, transforms\n",
        "import matplotlib.pyplot as plt\n",
        "from torch.utils.data import DataLoader, TensorDataset\n",
        "\n",
        "from tensorflow.keras.datasets import fashion_mnist\n",
        "\n",
        "class VAE(nn.Module):\n",
        "    \"\"\" A basic VAE class for PyTorch\n",
        "    Extends:\n",
        "        nn.Module\n",
        "    \"\"\"\n",
        "\n",
        "    def __init__(self, encoder, decoder):\n",
        "        super(VAE, self).__init__()\n",
        "        self.enc = encoder\n",
        "        self.dec = decoder\n",
        "\n",
        "    def encode(self, x):\n",
        "        encoded = self.enc(x)\n",
        "        mu, logvar = torch.chunk(encoded, 2, dim=1)\n",
        "        return mu, logvar\n",
        "\n",
        "    def reparameterize(self, mu, logvar):\n",
        "        std = torch.exp(0.5 * logvar)\n",
        "        eps = torch.randn_like(std)\n",
        "        return mu + eps * std\n",
        "\n",
        "    def decode(self, z):\n",
        "        return self.dec(z)\n",
        "\n",
        "    def forward(self, x):\n",
        "        mu, logvar = self.encode(x)\n",
        "        z = self.reparameterize(mu, logvar)\n",
        "        return self.decode(z), mu, logvar\n",
        "\n",
        "    def compute_loss(self, x, alpha = 1):\n",
        "        x_recon, mu, logvar = self(x)\n",
        "        q_z = Normal(mu, torch.exp(0.5 * logvar))\n",
        "        p_z = Normal(torch.zeros_like(mu), torch.ones_like(logvar))\n",
        "        kl_div = kl_divergence(q_z, p_z).sum(dim=1).mean()\n",
        "        recon_loss = F.mse_loss(x_recon, x, reduction='sum') # this was initially 'mean', but I changed this because https://stats.stackexchange.com/questions/502314/variational-autoencoder-balance-kl-divergence-and-reconstructionloss\n",
        "        total_loss = recon_loss + alpha * kl_div\n",
        "        return total_loss, recon_loss, kl_div\n",
        "\n",
        "    def train_step(self, train_x, optimizer):\n",
        "        optimizer.zero_grad()\n",
        "        total_loss, recon_loss, kl_div = self.compute_loss(train_x)\n",
        "        total_loss.backward()\n",
        "        optimizer.step()\n",
        "        return total_loss, recon_loss, kl_div\n",
        "\n",
        "    def reconstruct(self, x):\n",
        "        mu, _ = self.encode(x)\n",
        "        return self.decode(mu)\n",
        "\n",
        "\n"
      ]
    },
    {
      "cell_type": "code",
      "execution_count": null,
      "metadata": {
        "colab": {
          "base_uri": "https://localhost:8080/",
          "height": 1000
        },
        "id": "BUccOsx3TdMd",
        "outputId": "1d39f6e0-509b-4289-c586-961e857e6e00"
      },
      "outputs": [
        {
          "name": "stdout",
          "output_type": "stream",
          "text": [
            "Epoch: 1\n"
          ]
        },
        {
          "name": "stderr",
          "output_type": "stream",
          "text": [
            "100%|██████████| 469/469 [00:04<00:00, 116.59it/s]\n"
          ]
        },
        {
          "name": "stdout",
          "output_type": "stream",
          "text": [
            "Total Loss: 8425.968422570462, Reconstruction Loss: 8378.50002186334, KL Loss: 47.4683977169082\n",
            "Epoch: 2\n"
          ]
        },
        {
          "name": "stderr",
          "output_type": "stream",
          "text": [
            "100%|██████████| 469/469 [00:03<00:00, 144.66it/s]\n"
          ]
        },
        {
          "name": "stdout",
          "output_type": "stream",
          "text": [
            "Total Loss: 3450.2396575992802, Reconstruction Loss: 3367.0320641491203, KL Loss: 83.20759600413633\n",
            "Epoch: 3\n"
          ]
        },
        {
          "name": "stderr",
          "output_type": "stream",
          "text": [
            "100%|██████████| 469/469 [00:03<00:00, 154.50it/s]\n"
          ]
        },
        {
          "name": "stdout",
          "output_type": "stream",
          "text": [
            "Total Loss: 3008.3961512193496, Reconstruction Loss: 2938.779852307936, KL Loss: 69.61629996879269\n",
            "Epoch: 4\n"
          ]
        },
        {
          "name": "stderr",
          "output_type": "stream",
          "text": [
            "100%|██████████| 469/469 [00:03<00:00, 143.38it/s]\n"
          ]
        },
        {
          "name": "stdout",
          "output_type": "stream",
          "text": [
            "Total Loss: 2835.4287234308367, Reconstruction Loss: 2776.0334045800573, KL Loss: 59.39532375539036\n",
            "Epoch: 5\n"
          ]
        },
        {
          "name": "stderr",
          "output_type": "stream",
          "text": [
            "100%|██████████| 469/469 [00:02<00:00, 157.06it/s]\n"
          ]
        },
        {
          "name": "stdout",
          "output_type": "stream",
          "text": [
            "Total Loss: 2725.4666698594083, Reconstruction Loss: 2672.7991612806504, KL Loss: 52.667502624902134\n",
            "Epoch: 6\n"
          ]
        },
        {
          "name": "stderr",
          "output_type": "stream",
          "text": [
            "100%|██████████| 469/469 [00:02<00:00, 156.61it/s]\n"
          ]
        },
        {
          "name": "stdout",
          "output_type": "stream",
          "text": [
            "Total Loss: 2645.3221185680136, Reconstruction Loss: 2596.891357682153, KL Loss: 48.43076477376128\n",
            "Epoch: 7\n"
          ]
        },
        {
          "name": "stderr",
          "output_type": "stream",
          "text": [
            "100%|██████████| 469/469 [00:02<00:00, 156.94it/s]\n"
          ]
        },
        {
          "name": "stdout",
          "output_type": "stream",
          "text": [
            "Total Loss: 2582.7553297095715, Reconstruction Loss: 2537.602462280534, KL Loss: 45.15286508653718\n",
            "Epoch: 8\n"
          ]
        },
        {
          "name": "stderr",
          "output_type": "stream",
          "text": [
            "100%|██████████| 469/469 [00:03<00:00, 141.00it/s]\n"
          ]
        },
        {
          "name": "stdout",
          "output_type": "stream",
          "text": [
            "Total Loss: 2531.4334961458057, Reconstruction Loss: 2488.693246934968, KL Loss: 42.74024785251252\n",
            "Epoch: 9\n"
          ]
        },
        {
          "name": "stderr",
          "output_type": "stream",
          "text": [
            "100%|██████████| 469/469 [00:02<00:00, 156.98it/s]\n"
          ]
        },
        {
          "name": "stdout",
          "output_type": "stream",
          "text": [
            "Total Loss: 2489.955369636194, Reconstruction Loss: 2449.1304564648854, KL Loss: 40.82491452149999\n",
            "Epoch: 10\n"
          ]
        },
        {
          "name": "stderr",
          "output_type": "stream",
          "text": [
            "100%|██████████| 469/469 [00:03<00:00, 155.34it/s]\n"
          ]
        },
        {
          "name": "stdout",
          "output_type": "stream",
          "text": [
            "Total Loss: 2452.6666972926937, Reconstruction Loss: 2413.477325114106, KL Loss: 39.18936973848322\n",
            "Epoch: 11\n"
          ]
        },
        {
          "name": "stderr",
          "output_type": "stream",
          "text": [
            "100%|██████████| 469/469 [00:03<00:00, 129.35it/s]\n"
          ]
        },
        {
          "name": "stdout",
          "output_type": "stream",
          "text": [
            "Total Loss: 2420.5594927497, Reconstruction Loss: 2382.793515333489, KL Loss: 37.76597823771333\n",
            "Epoch: 12\n"
          ]
        },
        {
          "name": "stderr",
          "output_type": "stream",
          "text": [
            "100%|██████████| 469/469 [00:03<00:00, 143.19it/s]\n"
          ]
        },
        {
          "name": "stdout",
          "output_type": "stream",
          "text": [
            "Total Loss: 2392.0029866883497, Reconstruction Loss: 2355.430785351979, KL Loss: 36.57220255642303\n",
            "Epoch: 13\n"
          ]
        },
        {
          "name": "stderr",
          "output_type": "stream",
          "text": [
            "100%|██████████| 469/469 [00:02<00:00, 157.01it/s]\n"
          ]
        },
        {
          "name": "stdout",
          "output_type": "stream",
          "text": [
            "Total Loss: 2366.290831088003, Reconstruction Loss: 2330.717419980177, KL Loss: 35.5734149631915\n",
            "Epoch: 14\n"
          ]
        },
        {
          "name": "stderr",
          "output_type": "stream",
          "text": [
            "100%|██████████| 469/469 [00:03<00:00, 154.56it/s]\n"
          ]
        },
        {
          "name": "stdout",
          "output_type": "stream",
          "text": [
            "Total Loss: 2343.232134007696, Reconstruction Loss: 2308.534709873484, KL Loss: 34.69741900185787\n",
            "Epoch: 15\n"
          ]
        },
        {
          "name": "stderr",
          "output_type": "stream",
          "text": [
            "100%|██████████| 469/469 [00:03<00:00, 150.11it/s]\n"
          ]
        },
        {
          "name": "stdout",
          "output_type": "stream",
          "text": [
            "Total Loss: 2321.8535400911182, Reconstruction Loss: 2287.9409052151354, KL Loss: 33.9126382026591\n",
            "Epoch: 16\n"
          ]
        },
        {
          "name": "stderr",
          "output_type": "stream",
          "text": [
            "100%|██████████| 469/469 [00:03<00:00, 143.48it/s]\n"
          ]
        },
        {
          "name": "stdout",
          "output_type": "stream",
          "text": [
            "Total Loss: 2303.449615934002, Reconstruction Loss: 2270.1825128160813, KL Loss: 33.267099347958435\n",
            "Epoch: 17\n"
          ]
        },
        {
          "name": "stderr",
          "output_type": "stream",
          "text": [
            "100%|██████████| 469/469 [00:02<00:00, 156.88it/s]\n"
          ]
        },
        {
          "name": "stdout",
          "output_type": "stream",
          "text": [
            "Total Loss: 2285.7699430095618, Reconstruction Loss: 2253.0679018065366, KL Loss: 32.70203916960433\n",
            "Epoch: 18\n"
          ]
        },
        {
          "name": "stderr",
          "output_type": "stream",
          "text": [
            "100%|██████████| 469/469 [00:03<00:00, 154.95it/s]\n"
          ]
        },
        {
          "name": "stdout",
          "output_type": "stream",
          "text": [
            "Total Loss: 2270.071654232326, Reconstruction Loss: 2237.96592936892, KL Loss: 32.105727986740405\n",
            "Epoch: 19\n"
          ]
        },
        {
          "name": "stderr",
          "output_type": "stream",
          "text": [
            "100%|██████████| 469/469 [00:03<00:00, 148.90it/s]\n"
          ]
        },
        {
          "name": "stdout",
          "output_type": "stream",
          "text": [
            "Total Loss: 2254.6681212728213, Reconstruction Loss: 2223.0443745106777, KL Loss: 31.623746347325696\n",
            "Epoch: 20\n"
          ]
        },
        {
          "name": "stderr",
          "output_type": "stream",
          "text": [
            "100%|██████████| 469/469 [00:03<00:00, 146.46it/s]\n"
          ]
        },
        {
          "name": "stdout",
          "output_type": "stream",
          "text": [
            "Total Loss: 2241.7397325593015, Reconstruction Loss: 2210.571854646272, KL Loss: 31.16787888500482\n",
            "Epoch: 21\n"
          ]
        },
        {
          "name": "stderr",
          "output_type": "stream",
          "text": [
            "100%|██████████| 469/469 [00:03<00:00, 154.91it/s]\n"
          ]
        },
        {
          "name": "stdout",
          "output_type": "stream",
          "text": [
            "Total Loss: 2229.7401240171907, Reconstruction Loss: 2198.961821663863, KL Loss: 30.77830667638067\n",
            "Epoch: 22\n"
          ]
        },
        {
          "name": "stderr",
          "output_type": "stream",
          "text": [
            "100%|██████████| 469/469 [00:03<00:00, 153.37it/s]\n"
          ]
        },
        {
          "name": "stdout",
          "output_type": "stream",
          "text": [
            "Total Loss: 2217.5074023021057, Reconstruction Loss: 2187.069435884195, KL Loss: 30.43796577128266\n",
            "Epoch: 23\n"
          ]
        },
        {
          "name": "stderr",
          "output_type": "stream",
          "text": [
            "100%|██████████| 469/469 [00:03<00:00, 148.68it/s]\n"
          ]
        },
        {
          "name": "stdout",
          "output_type": "stream",
          "text": [
            "Total Loss: 2206.8262400677972, Reconstruction Loss: 2176.831817041328, KL Loss: 29.99442481994629\n",
            "Epoch: 24\n"
          ]
        },
        {
          "name": "stderr",
          "output_type": "stream",
          "text": [
            "100%|██████████| 469/469 [00:03<00:00, 146.98it/s]\n"
          ]
        },
        {
          "name": "stdout",
          "output_type": "stream",
          "text": [
            "Total Loss: 2196.64917174382, Reconstruction Loss: 2166.8796607954923, KL Loss: 29.76951018376137\n",
            "Epoch: 25\n"
          ]
        },
        {
          "name": "stderr",
          "output_type": "stream",
          "text": [
            "100%|██████████| 469/469 [00:03<00:00, 153.66it/s]\n"
          ]
        },
        {
          "name": "stdout",
          "output_type": "stream",
          "text": [
            "Total Loss: 2187.167398220949, Reconstruction Loss: 2157.763972756197, KL Loss: 29.40343444433802\n",
            "Epoch: 26\n"
          ]
        },
        {
          "name": "stderr",
          "output_type": "stream",
          "text": [
            "100%|██████████| 469/469 [00:03<00:00, 153.37it/s]\n"
          ]
        },
        {
          "name": "stdout",
          "output_type": "stream",
          "text": [
            "Total Loss: 2178.472082077059, Reconstruction Loss: 2149.2467782807503, KL Loss: 29.22530457714219\n",
            "Epoch: 27\n"
          ]
        },
        {
          "name": "stderr",
          "output_type": "stream",
          "text": [
            "100%|██████████| 469/469 [00:03<00:00, 145.18it/s]\n"
          ]
        },
        {
          "name": "stdout",
          "output_type": "stream",
          "text": [
            "Total Loss: 2170.997372495086, Reconstruction Loss: 2142.068032986574, KL Loss: 28.92933588495641\n",
            "Epoch: 28\n"
          ]
        },
        {
          "name": "stderr",
          "output_type": "stream",
          "text": [
            "100%|██████████| 469/469 [00:03<00:00, 147.69it/s]\n"
          ]
        },
        {
          "name": "stdout",
          "output_type": "stream",
          "text": [
            "Total Loss: 2162.4798979606708, Reconstruction Loss: 2133.7283971985776, KL Loss: 28.751503438075215\n",
            "Epoch: 29\n"
          ]
        },
        {
          "name": "stderr",
          "output_type": "stream",
          "text": [
            "100%|██████████| 469/469 [00:03<00:00, 154.78it/s]\n"
          ]
        },
        {
          "name": "stdout",
          "output_type": "stream",
          "text": [
            "Total Loss: 2156.036561490122, Reconstruction Loss: 2127.4926523562435, KL Loss: 28.543909377889083\n",
            "Epoch: 30\n"
          ]
        },
        {
          "name": "stderr",
          "output_type": "stream",
          "text": [
            "100%|██████████| 469/469 [00:03<00:00, 153.25it/s]\n"
          ]
        },
        {
          "name": "stdout",
          "output_type": "stream",
          "text": [
            "Total Loss: 2148.6050765112773, Reconstruction Loss: 2120.275815398454, KL Loss: 28.329260380791702\n",
            "Epoch: 31\n"
          ]
        },
        {
          "name": "stderr",
          "output_type": "stream",
          "text": [
            "100%|██████████| 469/469 [00:03<00:00, 140.87it/s]\n"
          ]
        },
        {
          "name": "stdout",
          "output_type": "stream",
          "text": [
            "Total Loss: 2142.010297372651, Reconstruction Loss: 2113.8788651260993, KL Loss: 28.131431099702553\n",
            "Epoch: 32\n"
          ]
        },
        {
          "name": "stderr",
          "output_type": "stream",
          "text": [
            "100%|██████████| 469/469 [00:03<00:00, 153.20it/s]\n"
          ]
        },
        {
          "name": "stdout",
          "output_type": "stream",
          "text": [
            "Total Loss: 2136.6197090718283, Reconstruction Loss: 2108.6565701417576, KL Loss: 27.963135859605345\n",
            "Epoch: 33\n"
          ]
        },
        {
          "name": "stderr",
          "output_type": "stream",
          "text": [
            "100%|██████████| 469/469 [00:03<00:00, 154.61it/s]\n"
          ]
        },
        {
          "name": "stdout",
          "output_type": "stream",
          "text": [
            "Total Loss: 2130.428123750666, Reconstruction Loss: 2102.5826101079424, KL Loss: 27.845511503565287\n",
            "Epoch: 34\n"
          ]
        },
        {
          "name": "stderr",
          "output_type": "stream",
          "text": [
            "100%|██████████| 469/469 [00:03<00:00, 154.60it/s]\n"
          ]
        },
        {
          "name": "stdout",
          "output_type": "stream",
          "text": [
            "Total Loss: 2125.3896510402783, Reconstruction Loss: 2097.7084370106777, KL Loss: 27.681216599844667\n",
            "Epoch: 35\n"
          ]
        },
        {
          "name": "stderr",
          "output_type": "stream",
          "text": [
            "100%|██████████| 469/469 [00:03<00:00, 140.08it/s]\n"
          ]
        },
        {
          "name": "stdout",
          "output_type": "stream",
          "text": [
            "Total Loss: 2119.7858878910415, Reconstruction Loss: 2092.243100554704, KL Loss: 27.542785270381838\n",
            "Epoch: 36\n"
          ]
        },
        {
          "name": "stderr",
          "output_type": "stream",
          "text": [
            "100%|██████████| 469/469 [00:03<00:00, 153.35it/s]\n"
          ]
        },
        {
          "name": "stdout",
          "output_type": "stream",
          "text": [
            "Total Loss: 2114.4350054970682, Reconstruction Loss: 2087.0332916194698, KL Loss: 27.40170964401668\n",
            "Epoch: 37\n"
          ]
        },
        {
          "name": "stderr",
          "output_type": "stream",
          "text": [
            "100%|██████████| 469/469 [00:03<00:00, 154.69it/s]\n"
          ]
        },
        {
          "name": "stdout",
          "output_type": "stream",
          "text": [
            "Total Loss: 2109.4550822894457, Reconstruction Loss: 2082.16319499392, KL Loss: 27.29188695391104\n",
            "Epoch: 38\n"
          ]
        },
        {
          "name": "stderr",
          "output_type": "stream",
          "text": [
            "100%|██████████| 469/469 [00:03<00:00, 154.31it/s]\n"
          ]
        },
        {
          "name": "stdout",
          "output_type": "stream",
          "text": [
            "Total Loss: 2104.9248434689, Reconstruction Loss: 2077.767389683835, KL Loss: 27.15745015337523\n",
            "Epoch: 39\n"
          ]
        },
        {
          "name": "stderr",
          "output_type": "stream",
          "text": [
            "100%|██████████| 469/469 [00:03<00:00, 140.30it/s]\n"
          ]
        },
        {
          "name": "stdout",
          "output_type": "stream",
          "text": [
            "Total Loss: 2100.6735550935337, Reconstruction Loss: 2073.578210631413, KL Loss: 27.09534516568377\n",
            "Epoch: 40\n"
          ]
        },
        {
          "name": "stderr",
          "output_type": "stream",
          "text": [
            "100%|██████████| 469/469 [00:03<00:00, 154.11it/s]\n"
          ]
        },
        {
          "name": "stdout",
          "output_type": "stream",
          "text": [
            "Total Loss: 2096.0569157386894, Reconstruction Loss: 2069.1165401889825, KL Loss: 26.940371141250708\n",
            "Epoch: 41\n"
          ]
        },
        {
          "name": "stderr",
          "output_type": "stream",
          "text": [
            "100%|██████████| 469/469 [00:03<00:00, 153.40it/s]\n"
          ]
        },
        {
          "name": "stdout",
          "output_type": "stream",
          "text": [
            "Total Loss: 2090.8981116321297, Reconstruction Loss: 2064.0836038487805, KL Loss: 26.81451191932662\n",
            "Epoch: 42\n"
          ]
        },
        {
          "name": "stderr",
          "output_type": "stream",
          "text": [
            "100%|██████████| 469/469 [00:03<00:00, 153.51it/s]\n"
          ]
        },
        {
          "name": "stdout",
          "output_type": "stream",
          "text": [
            "Total Loss: 2087.5140445928837, Reconstruction Loss: 2060.745467000933, KL Loss: 26.76858346446999\n",
            "Epoch: 43\n"
          ]
        },
        {
          "name": "stderr",
          "output_type": "stream",
          "text": [
            "100%|██████████| 469/469 [00:03<00:00, 138.15it/s]\n"
          ]
        },
        {
          "name": "stdout",
          "output_type": "stream",
          "text": [
            "Total Loss: 2083.772076767391, Reconstruction Loss: 2057.1568041315463, KL Loss: 26.615271818409088\n",
            "Epoch: 44\n"
          ]
        },
        {
          "name": "stderr",
          "output_type": "stream",
          "text": [
            "100%|██████████| 469/469 [00:03<00:00, 143.08it/s]\n"
          ]
        },
        {
          "name": "stdout",
          "output_type": "stream",
          "text": [
            "Total Loss: 2080.5984173024385, Reconstruction Loss: 2054.101140329324, KL Loss: 26.497281263632054\n",
            "Epoch: 45\n"
          ]
        },
        {
          "name": "stderr",
          "output_type": "stream",
          "text": [
            "100%|██████████| 469/469 [00:03<00:00, 139.79it/s]\n"
          ]
        },
        {
          "name": "stdout",
          "output_type": "stream",
          "text": [
            "Total Loss: 2075.13952844941, Reconstruction Loss: 2048.729493749167, KL Loss: 26.410035334670468\n",
            "Epoch: 46\n"
          ]
        },
        {
          "name": "stderr",
          "output_type": "stream",
          "text": [
            "100%|██████████| 469/469 [00:03<00:00, 148.37it/s]\n"
          ]
        },
        {
          "name": "stdout",
          "output_type": "stream",
          "text": [
            "Total Loss: 2073.006163119253, Reconstruction Loss: 2046.6585485137093, KL Loss: 26.347614219193773\n",
            "Epoch: 47\n"
          ]
        },
        {
          "name": "stderr",
          "output_type": "stream",
          "text": [
            "100%|██████████| 469/469 [00:03<00:00, 145.94it/s]\n"
          ]
        },
        {
          "name": "stdout",
          "output_type": "stream",
          "text": [
            "Total Loss: 2068.8611188616073, Reconstruction Loss: 2042.606262597448, KL Loss: 26.254857337805255\n",
            "Epoch: 48\n"
          ]
        },
        {
          "name": "stderr",
          "output_type": "stream",
          "text": [
            "100%|██████████| 469/469 [00:03<00:00, 154.48it/s]\n"
          ]
        },
        {
          "name": "stdout",
          "output_type": "stream",
          "text": [
            "Total Loss: 2065.0104103332387, Reconstruction Loss: 2038.8296835437766, KL Loss: 26.180725227795175\n",
            "Epoch: 49\n"
          ]
        },
        {
          "name": "stderr",
          "output_type": "stream",
          "text": [
            "100%|██████████| 469/469 [00:03<00:00, 153.94it/s]\n"
          ]
        },
        {
          "name": "stdout",
          "output_type": "stream",
          "text": [
            "Total Loss: 2062.028720359558, Reconstruction Loss: 2035.8718071715919, KL Loss: 26.156915282389757\n",
            "Epoch: 50\n"
          ]
        },
        {
          "name": "stderr",
          "output_type": "stream",
          "text": [
            "100%|██████████| 469/469 [00:03<00:00, 145.06it/s]\n"
          ]
        },
        {
          "name": "stdout",
          "output_type": "stream",
          "text": [
            "Total Loss: 2058.9738605556204, Reconstruction Loss: 2032.9061667110875, KL Loss: 26.06769766329702\n",
            "Epoch: 51\n"
          ]
        },
        {
          "name": "stderr",
          "output_type": "stream",
          "text": [
            "100%|██████████| 469/469 [00:03<00:00, 146.70it/s]\n"
          ]
        },
        {
          "name": "stdout",
          "output_type": "stream",
          "text": [
            "Total Loss: 2056.310307679654, Reconstruction Loss: 2030.3399814369836, KL Loss: 25.970321817947095\n",
            "Epoch: 52\n"
          ]
        },
        {
          "name": "stderr",
          "output_type": "stream",
          "text": [
            "100%|██████████| 469/469 [00:03<00:00, 153.70it/s]\n"
          ]
        },
        {
          "name": "stdout",
          "output_type": "stream",
          "text": [
            "Total Loss: 2053.006405698211, Reconstruction Loss: 2027.0901990292678, KL Loss: 25.91620239469288\n",
            "Epoch: 53\n"
          ]
        },
        {
          "name": "stderr",
          "output_type": "stream",
          "text": [
            "100%|██████████| 469/469 [00:03<00:00, 154.25it/s]\n"
          ]
        },
        {
          "name": "stdout",
          "output_type": "stream",
          "text": [
            "Total Loss: 2049.183343102429, Reconstruction Loss: 2023.3695037126033, KL Loss: 25.813837767155693\n",
            "Epoch: 54\n"
          ]
        },
        {
          "name": "stderr",
          "output_type": "stream",
          "text": [
            "100%|██████████| 469/469 [00:03<00:00, 143.59it/s]\n"
          ]
        },
        {
          "name": "stdout",
          "output_type": "stream",
          "text": [
            "Total Loss: 2046.8270240246868, Reconstruction Loss: 2021.0303036297307, KL Loss: 25.796721285594298\n",
            "Epoch: 55\n"
          ]
        },
        {
          "name": "stderr",
          "output_type": "stream",
          "text": [
            "100%|██████████| 469/469 [00:03<00:00, 151.12it/s]\n"
          ]
        },
        {
          "name": "stdout",
          "output_type": "stream",
          "text": [
            "Total Loss: 2044.3244129172774, Reconstruction Loss: 2018.6515452175506, KL Loss: 25.672866687083296\n",
            "Epoch: 56\n"
          ]
        },
        {
          "name": "stderr",
          "output_type": "stream",
          "text": [
            "100%|██████████| 469/469 [00:03<00:00, 154.33it/s]\n"
          ]
        },
        {
          "name": "stdout",
          "output_type": "stream",
          "text": [
            "Total Loss: 2042.028778661797, Reconstruction Loss: 2016.4285815794076, KL Loss: 25.600196403226875\n",
            "Epoch: 57\n"
          ]
        },
        {
          "name": "stderr",
          "output_type": "stream",
          "text": [
            "100%|██████████| 469/469 [00:03<00:00, 152.67it/s]\n"
          ]
        },
        {
          "name": "stdout",
          "output_type": "stream",
          "text": [
            "Total Loss: 2039.0771419305538, Reconstruction Loss: 2013.4629595986307, KL Loss: 25.614184820829934\n",
            "Epoch: 58\n"
          ]
        },
        {
          "name": "stderr",
          "output_type": "stream",
          "text": [
            "100%|██████████| 469/469 [00:03<00:00, 139.08it/s]\n"
          ]
        },
        {
          "name": "stdout",
          "output_type": "stream",
          "text": [
            "Total Loss: 2036.7034628406516, Reconstruction Loss: 2011.2141201775719, KL Loss: 25.48934005623433\n",
            "Epoch: 59\n"
          ]
        },
        {
          "name": "stderr",
          "output_type": "stream",
          "text": [
            "100%|██████████| 469/469 [00:03<00:00, 153.51it/s]\n"
          ]
        },
        {
          "name": "stdout",
          "output_type": "stream",
          "text": [
            "Total Loss: 2033.6805313207956, Reconstruction Loss: 2008.2069000699628, KL Loss: 25.47363292637156\n",
            "Epoch: 60\n"
          ]
        },
        {
          "name": "stderr",
          "output_type": "stream",
          "text": [
            "100%|██████████| 469/469 [00:03<00:00, 152.77it/s]\n"
          ]
        },
        {
          "name": "stdout",
          "output_type": "stream",
          "text": [
            "Total Loss: 2031.2720101362606, Reconstruction Loss: 2005.8586855239705, KL Loss: 25.41332457975538\n"
          ]
        },
        {
          "data": {
            "image/png": "[encoded data removed]",
            "text/plain": [
              "<Figure size 1000x600 with 1 Axes>"
            ]
          },
          "metadata": {},
          "output_type": "display_data"
        }
      ],
      "source": [
        "\n",
        "\n",
        "bottle_neck_layer = 4\n",
        "\n",
        "\n",
        "encoder = nn.Sequential(\n",
        "    nn.Conv2d(1, 32, kernel_size=3, stride=2, padding=1),\n",
        "    nn.ReLU(),\n",
        "    nn.Conv2d(32, 64, kernel_size=3, stride=2, padding=1),\n",
        "    nn.ReLU(),\n",
        "    nn.Flatten(),\n",
        "    nn.Linear(64 * 7 * 7, bottle_neck_layer * 2)  # Output size is twice the bottle_neck_layer for mu and logvar\n",
        ")\n",
        "\n",
        "# Decoder definition using nn.Sequential\n",
        "decoder = nn.Sequential(\n",
        "    nn.Linear(bottle_neck_layer, 64 * 7 * 7),\n",
        "    nn.ReLU(),\n",
        "    nn.Unflatten(1, (64, 7, 7)),\n",
        "    nn.ConvTranspose2d(64, 64, kernel_size=3, stride=2, padding=1, output_padding=1),\n",
        "    nn.ReLU(),\n",
        "    nn.ConvTranspose2d(64, 32, kernel_size=3, stride=2, padding=1, output_padding=1),\n",
        "    nn.ReLU(),\n",
        "    nn.ConvTranspose2d(32, 1, kernel_size=3, stride=1, padding=1),\n",
        "    nn.Sigmoid()\n",
        ")\n",
        "\n",
        "\n",
        "\n",
        "\n",
        "\n",
        "\n",
        "\n",
        "(x_train, _), (x_test, _) = fashion_mnist.load_data()\n",
        "x_train = x_train.astype('float32') / 255.\n",
        "x_test = x_test.astype('float32') / 255.\n",
        "x_train = x_train.reshape(x_train.shape[0], 1,28, 28).astype('float32')\n",
        "x_test = x_test.reshape(x_test.shape[0], 1, 28, 28).astype('float32')\n",
        "\n",
        "\n",
        "x_train = torch.tensor(x_train)\n",
        "x_test = torch.tensor(x_test)\n",
        "\n",
        "\n",
        "train_dataset = TensorDataset(x_train)\n",
        "test_dataset = TensorDataset(x_test)\n",
        "\n",
        "\n",
        "# Create data loaders\n",
        "train_loader = DataLoader(dataset=train_dataset, batch_size=128, shuffle=True)\n",
        "test_loader = DataLoader(dataset=test_dataset, batch_size=128, shuffle=False)\n",
        "\n",
        "model = VAE(encoder, decoder).cuda()\n",
        "\n",
        "# Optimizer\n",
        "optimizer = optim.Adam(model.parameters(), lr=1e-4)\n",
        "\n",
        "# Training loop\n",
        "epochs = 60\n",
        "total_losses = []\n",
        "reconstruction_losses = []\n",
        "kl_losses = []\n",
        "\n",
        "for epoch in range(epochs):\n",
        "    print('Epoch:', epoch + 1)\n",
        "    model.train()\n",
        "    epoch_total_loss = 0\n",
        "    epoch_reconstruction_loss = 0\n",
        "    epoch_kl_loss = 0\n",
        "\n",
        "    for train_x, in tqdm(train_loader):\n",
        "        train_x = train_x.cuda()  # Move to GPU if using GPU\n",
        "        optimizer.zero_grad()\n",
        "        total_loss, recon_loss, kl_loss = model.compute_loss(train_x)\n",
        "        total_loss.backward()\n",
        "        optimizer.step()\n",
        "\n",
        "        epoch_total_loss += total_loss.item()\n",
        "        epoch_reconstruction_loss += recon_loss.item()\n",
        "        epoch_kl_loss += kl_loss.item()\n",
        "\n",
        "    total_losses.append(epoch_total_loss / len(train_loader))\n",
        "    reconstruction_losses.append(epoch_reconstruction_loss / len(train_loader))\n",
        "    kl_losses.append(epoch_kl_loss / len(train_loader))\n",
        "\n",
        "    print(f'Total Loss: {total_losses[-1]}, Reconstruction Loss: {reconstruction_losses[-1]}, KL Loss: {kl_losses[-1]}')\n",
        "\n",
        "# Plotting\n",
        "plt.figure(figsize=(10, 6))\n",
        "plt.plot(total_losses, label='Total Loss')\n",
        "plt.plot(reconstruction_losses, label='Reconstruction Loss')\n",
        "plt.plot(kl_losses, label='KL Loss')\n",
        "plt.title('VAE Training Losses')\n",
        "plt.xlabel('Epochs')\n",
        "plt.ylabel('Loss')\n",
        "plt.legend()\n",
        "plt.show()"
      ]
    },
    {
      "cell_type": "markdown",
      "metadata": {
        "id": "Hrtn6Pe5ZbGL"
      },
      "source": [
        "#### Sampling from VAE\n"
      ]
    },
    {
      "cell_type": "code",
      "execution_count": null,
      "metadata": {
        "colab": {
          "base_uri": "https://localhost:8080/",
          "height": 351
        },
        "id": "qij66N2XZfMo",
        "outputId": "d74b9d0f-9284-4478-da80-34804bbe3f5c"
      },
      "outputs": [
        {
          "data": {
            "image/png": "[encoded data removed]",
            "text/plain": [
              "<Figure size 2000x600 with 30 Axes>"
            ]
          },
          "metadata": {},
          "output_type": "display_data"
        }
      ],
      "source": [
        "import torch\n",
        "import matplotlib.pyplot as plt\n",
        "\n",
        "\n",
        "device = torch.device(\"cuda\" if torch.cuda.is_available() else \"cpu\")\n",
        "test_data = next(iter(test_loader))\n",
        "\n",
        "\n",
        "test_data = test_data[0].to(device)  # Move test data to the appropriate device (GPU or CPU)\n",
        "\n",
        "# Reconstruct test data using the VAE\n",
        "test_data_reconstructed = model.reconstruct(test_data).detach()\n",
        "\n",
        "\n",
        "\n",
        "# Generate random embeddings and produce random samples\n",
        "random_embeddings = torch.randn(10, bottle_neck_layer, device=device)\n",
        "random_samples = model.decode(random_embeddings).detach()\n",
        "\n",
        "\n",
        "nex = 10\n",
        "zm = 2\n",
        "fig, axs = plt.subplots(ncols=nex, nrows=3, figsize=(zm * nex, zm * 3))\n",
        "for axi, (dat, lab) in enumerate(\n",
        "    zip(\n",
        "        [test_data, test_data_reconstructed, random_samples],\n",
        "        [\"data\", \"data recon\", \"samples\"],\n",
        "    )\n",
        "):\n",
        "    for ex in range(nex):\n",
        "        axs[axi, ex].matshow(\n",
        "            dat.cpu().numpy()[ex].squeeze(), cmap=plt.cm.Greys, vmin=0, vmax=1\n",
        "        )\n",
        "        axs[axi, ex].axes.get_xaxis().set_ticks([])\n",
        "        axs[axi, ex].axes.get_yaxis().set_ticks([])\n",
        "    axs[axi, 0].set_ylabel(lab)\n",
        "\n",
        "plt.show()"
      ]
    },
    {
      "cell_type": "markdown",
      "metadata": {
        "id": "NHHDsDhBUXgA"
      },
      "source": [
        "#### VAE Gan\n"
      ]
    },
    {
      "cell_type": "markdown",
      "metadata": {
        "id": "6efO8TPaqRoO"
      },
      "source": [
        "##### Model Class"
      ]
    },
    {
      "cell_type": "code",
      "execution_count": null,
      "metadata": {
        "id": "-kMBE__VhLNL"
      },
      "outputs": [],
      "source": [
        "import torch\n",
        "import torch.nn as nn\n",
        "import torch.nn.functional as F\n",
        "import torch.optim as optim\n",
        "from torch.distributions import Normal, kl_divergence\n",
        "\n",
        "class VAEGAN(nn.Module):\n",
        "    def __init__(self, enc_layers, dec_layers, disc, lr_base_gen, lr_base_disc, latent_dim):\n",
        "        super(VAEGAN, self).__init__()\n",
        "        self.enc = nn.Sequential(*enc_layers)\n",
        "        self.dec = nn.Sequential(*dec_layers)\n",
        "        self.disc = disc\n",
        "\n",
        "        self.enc_optimizer = optim.Adam(self.enc.parameters(), lr=lr_base_gen, betas=(0.5, 0.999))\n",
        "        self.dec_optimizer = optim.Adam(self.dec.parameters(), lr=lr_base_gen, betas=(0.5, 0.999))\n",
        "        self.disc_optimizer = optim.Adam(self.disc.parameters(), lr=lr_base_disc, betas=(0.5, 0.999))\n",
        "\n",
        "        self.latent_dim = latent_dim\n",
        "\n",
        "    def encode(self, x):\n",
        "        x = self.enc(x)\n",
        "        mu, logvar = x.chunk(2, dim=1)\n",
        "        return mu, logvar\n",
        "\n",
        "    def reparameterize(self, mu, logvar):\n",
        "        std = torch.exp(0.5 * logvar)\n",
        "        eps = torch.randn_like(std)\n",
        "        return eps.mul(std).add_(mu)\n",
        "\n",
        "    def decode(self, z):\n",
        "        return self.dec(z)\n",
        "\n",
        "    def reconstruct(self, x):\n",
        "        mu, _ = self.encode(x)\n",
        "        return self.decode(mu)\n",
        "\n",
        "    def discriminate(self, x):\n",
        "        return self.disc(x)\n",
        "\n",
        "    def forward(self, x):\n",
        "        mu, logvar = self.encode(x)\n",
        "        z = self.reparameterize(mu, logvar)\n",
        "        recon_x = self.decode(z)\n",
        "        return recon_x, mu, logvar, z\n",
        "\n",
        "    def gan_loss(self, logits, is_real=True):\n",
        "        targets = torch.ones_like(logits) if is_real else torch.zeros_like(logits)\n",
        "        return F.binary_cross_entropy_with_logits(logits, targets)\n",
        "\n",
        "    def compute_loss(self, x):\n",
        "        recon_x, mu, logvar, z = self(x)\n",
        "        d_real = self.discriminate(x)\n",
        "        d_recon = self.discriminate(recon_x)\n",
        "        d_fake = self.discriminate(self.decode(torch.randn_like(z)))\n",
        "\n",
        "        # VAE Loss\n",
        "        vae_loss = F.mse_loss(recon_x, x, reduction='sum')\n",
        "        kl_loss = -0.5 * torch.sum(1 + logvar - mu.pow(2) - logvar.exp())\n",
        "\n",
        "        # GAN Loss\n",
        "        real_loss = self.gan_loss(d_real, True)\n",
        "        fake_loss = self.gan_loss(d_fake, False)\n",
        "        recon_loss = self.gan_loss(d_recon, False)\n",
        "\n",
        "        return vae_loss + kl_loss, real_loss, fake_loss, recon_loss\n",
        "\n",
        "    def step(self, x):\n",
        "        self.train()\n",
        "        self.enc_optimizer.zero_grad()\n",
        "        self.dec_optimizer.zero_grad()\n",
        "        self.disc_optimizer.zero_grad()\n",
        "\n",
        "        vae_loss, real_loss, fake_loss, recon_loss = self.compute_loss(x)\n",
        "        vae_loss.backward(retain_graph=True)\n",
        "        real_loss.backward(retain_graph=True)\n",
        "        fake_loss.backward()\n",
        "        recon_loss.backward()\n",
        "\n",
        "        self.enc_optimizer.step()\n",
        "        self.dec_optimizer.step()\n",
        "        self.disc_optimizer.step()\n",
        "\n",
        "        return vae_loss.item(), real_loss.item(), fake_loss.item(), recon_loss.item()\n",
        "\n"
      ]
    },
    {
      "cell_type": "markdown",
      "metadata": {
        "id": "qXDGbvTaqVgb"
      },
      "source": [
        "#####Discriminator"
      ]
    },
    {
      "cell_type": "code",
      "execution_count": null,
      "metadata": {
        "id": "8h1EBUhd0v5p"
      },
      "outputs": [],
      "source": [
        "import torch.nn as nn\n",
        "import torch.nn.functional as F\n",
        "\n",
        "class Discriminator(nn.Module):\n",
        "    def __init__(self):\n",
        "        super(Discriminator, self).__init__()\n",
        "        self.conv_layers = nn.Sequential(\n",
        "            nn.Conv2d(1, 32, kernel_size=3, stride=2, padding=1),  # Added padding to match the output size\n",
        "            nn.ReLU(),\n",
        "            nn.Conv2d(32, 64, kernel_size=3, stride=2, padding=1),\n",
        "            nn.ReLU(),\n",
        "            nn.Flatten()\n",
        "        )\n",
        "        self.last_layer = nn.Sequential(\n",
        "            nn.Linear(64 * 7 * 7, 512),\n",
        "            nn.ReLU(),\n",
        "\n",
        "        )\n",
        "        self.dense_layers = nn.Sequential(\n",
        "            nn.Linear(512, 1),  # Extremely important, we don't need sigmoid here because we will use binary_cross_entropy_with_logits as our gan loss.\n",
        "        )\n",
        "\n",
        "    def forward(self, x):\n",
        "        conv_out = self.conv_layers(x)\n",
        "        last_layer = self.last_layer(conv_out)\n",
        "        final_out = self.dense_layers(last_layer)\n",
        "        return final_out\n"
      ]
    },
    {
      "cell_type": "markdown",
      "metadata": {
        "id": "DqQn2UvvqgFU"
      },
      "source": [
        "##### Dataset & Model Architecture"
      ]
    },
    {
      "cell_type": "code",
      "execution_count": null,
      "metadata": {
        "colab": {
          "base_uri": "https://localhost:8080/"
        },
        "id": "qHH9mkW604CI",
        "outputId": "42abb775-e117-4d7a-eaf3-313a026c3e60"
      },
      "outputs": [
        {
          "name": "stdout",
          "output_type": "stream",
          "text": [
            "Downloading data from https://storage.googleapis.com/tensorflow/tf-keras-datasets/train-labels-idx1-ubyte.gz\n",
            "29515/29515 [==============================] - 0s 0us/step\n",
            "Downloading data from https://storage.googleapis.com/tensorflow/tf-keras-datasets/train-images-idx3-ubyte.gz\n",
            "26421880/26421880 [==============================] - 0s 0us/step\n",
            "Downloading data from https://storage.googleapis.com/tensorflow/tf-keras-datasets/t10k-labels-idx1-ubyte.gz\n",
            "5148/5148 [==============================] - 0s 0us/step\n",
            "Downloading data from https://storage.googleapis.com/tensorflow/tf-keras-datasets/t10k-images-idx3-ubyte.gz\n",
            "4422102/4422102 [==============================] - 0s 0us/step\n"
          ]
        },
        {
          "data": {
            "text/plain": [
              "VAEGAN(\n",
              "  (enc): Sequential(\n",
              "    (0): Conv2d(1, 32, kernel_size=(3, 3), stride=(2, 2), padding=(1, 1))\n",
              "    (1): ReLU()\n",
              "    (2): Conv2d(32, 64, kernel_size=(3, 3), stride=(2, 2), padding=(1, 1))\n",
              "    (3): ReLU()\n",
              "    (4): Flatten(start_dim=1, end_dim=-1)\n",
              "    (5): Linear(in_features=3136, out_features=256, bias=True)\n",
              "  )\n",
              "  (dec): Sequential(\n",
              "    (0): Linear(in_features=128, out_features=3136, bias=True)\n",
              "    (1): ReLU()\n",
              "    (2): Unflatten(dim=1, unflattened_size=(64, 7, 7))\n",
              "    (3): ConvTranspose2d(64, 64, kernel_size=(3, 3), stride=(2, 2), padding=(1, 1), output_padding=(1, 1))\n",
              "    (4): ReLU()\n",
              "    (5): ConvTranspose2d(64, 32, kernel_size=(3, 3), stride=(2, 2), padding=(1, 1), output_padding=(1, 1))\n",
              "    (6): ReLU()\n",
              "    (7): ConvTranspose2d(32, 1, kernel_size=(3, 3), stride=(1, 1), padding=(1, 1))\n",
              "    (8): Sigmoid()\n",
              "  )\n",
              "  (disc): Discriminator(\n",
              "    (conv_layers): Sequential(\n",
              "      (0): Conv2d(1, 32, kernel_size=(3, 3), stride=(2, 2), padding=(1, 1))\n",
              "      (1): ReLU()\n",
              "      (2): Conv2d(32, 64, kernel_size=(3, 3), stride=(2, 2), padding=(1, 1))\n",
              "      (3): ReLU()\n",
              "      (4): Flatten(start_dim=1, end_dim=-1)\n",
              "    )\n",
              "    (last_layer): Sequential(\n",
              "      (0): Linear(in_features=3136, out_features=512, bias=True)\n",
              "      (1): ReLU()\n",
              "    )\n",
              "    (dense_layers): Sequential(\n",
              "      (0): Linear(in_features=512, out_features=1, bias=True)\n",
              "    )\n",
              "  )\n",
              ")"
            ]
          },
          "execution_count": 3,
          "metadata": {},
          "output_type": "execute_result"
        }
      ],
      "source": [
        "import torch\n",
        "import torch.nn as nn\n",
        "import torch.optim as optim\n",
        "from torchvision import datasets, transforms\n",
        "from torch.utils.data import DataLoader\n",
        "import matplotlib.pyplot as plt\n",
        "from tqdm import tqdm\n",
        "from torch.utils.data import DataLoader, TensorDataset\n",
        "from tensorflow.keras.datasets import fashion_mnist\n",
        "\n",
        "(x_train, _), (x_test, _) = fashion_mnist.load_data()\n",
        "x_train = x_train.astype('float32') / 255.\n",
        "x_test = x_test.astype('float32') / 255.\n",
        "x_train = x_train.reshape(x_train.shape[0], 1,28, 28).astype('float32')\n",
        "x_test = x_test.reshape(x_test.shape[0], 1, 28, 28).astype('float32')\n",
        "\n",
        "\n",
        "x_train = torch.tensor(x_train)\n",
        "x_test = torch.tensor(x_test)\n",
        "\n",
        "\n",
        "train_dataset = TensorDataset(x_train)\n",
        "test_dataset = TensorDataset(x_test)\n",
        "\n",
        "\n",
        "# Create data loaders\n",
        "train_loader = DataLoader(dataset=train_dataset, batch_size=128, shuffle=True)\n",
        "test_loader = DataLoader(dataset=test_dataset, batch_size=128, shuffle=True)\n",
        "bottleneck_layer = 128\n",
        "enc_layers = [\n",
        "    nn.Conv2d(1, 32, kernel_size=3, stride=2, padding=1),\n",
        "    nn.ReLU(),\n",
        "    nn.Conv2d(32, 64, kernel_size=3, stride=2, padding=1),\n",
        "    nn.ReLU(),\n",
        "    nn.Flatten(),\n",
        "    nn.Linear(64*7*7, bottleneck_layer * 2),  ]\n",
        "\n",
        "\n",
        "dec_layers = [\n",
        "    nn.Linear(bottleneck_layer, 7 *  7 * 64),  # Input from the latent space\n",
        "    nn.ReLU(),\n",
        "    nn.Unflatten(1, (64, 7, 7)),  # Unflatten to [64, 7, 7] for deconvolution\n",
        "    nn.ConvTranspose2d(64, 64, kernel_size=3, stride=2, padding=1, output_padding=1),\n",
        "    nn.ReLU(),\n",
        "    nn.ConvTranspose2d(64, 32, kernel_size=3, stride=2, padding=1, output_padding=1),\n",
        "    nn.ReLU(),\n",
        "    nn.ConvTranspose2d(32, 1, kernel_size=3, stride=1, padding=1),\n",
        "    nn.Sigmoid()\n",
        "]\n",
        "\n",
        "\n",
        "device = torch.device(\"cuda\" if torch.cuda.is_available() else \"cpu\")\n",
        "# Initialize the VAEGAN model\n",
        "discriminator = Discriminator()\n",
        "vae_gan = VAEGAN(enc_layers, dec_layers, discriminator, 1e-3, 1e-4, 128)  # Customize your parameters as necessary\n",
        "vae_gan.to(device)\n",
        "vae_gan.train()"
      ]
    },
    {
      "cell_type": "markdown",
      "metadata": {
        "id": "DiKNdhOIqlE8"
      },
      "source": [
        "##### Training"
      ]
    },
    {
      "cell_type": "code",
      "execution_count": null,
      "metadata": {
        "colab": {
          "base_uri": "https://localhost:8080/",
          "height": 1000
        },
        "id": "KKydK4iwJA00",
        "outputId": "0642751f-38e8-4c91-8b57-c29ffa3627ca"
      },
      "outputs": [
        {
          "name": "stderr",
          "output_type": "stream",
          "text": [
            "100%|██████████| 469/469 [00:12<00:00, 37.95it/s]\n"
          ]
        },
        {
          "name": "stdout",
          "output_type": "stream",
          "text": [
            "Epoch 1/30, VAE Loss: 3242.5986, Real Loss: 0.0217, Fake Loss: 0.0209, Recon Loss: 0.0953\n"
          ]
        },
        {
          "name": "stderr",
          "output_type": "stream",
          "text": [
            "100%|██████████| 469/469 [00:08<00:00, 52.98it/s]\n"
          ]
        },
        {
          "name": "stdout",
          "output_type": "stream",
          "text": [
            "Epoch 2/30, VAE Loss: 2905.7842, Real Loss: 0.0281, Fake Loss: 0.0030, Recon Loss: 0.0166\n"
          ]
        },
        {
          "name": "stderr",
          "output_type": "stream",
          "text": [
            "100%|██████████| 469/469 [00:09<00:00, 49.00it/s]\n"
          ]
        },
        {
          "name": "stdout",
          "output_type": "stream",
          "text": [
            "Epoch 3/30, VAE Loss: 2705.1155, Real Loss: 0.0868, Fake Loss: 0.0044, Recon Loss: 0.0026\n"
          ]
        },
        {
          "name": "stderr",
          "output_type": "stream",
          "text": [
            "100%|██████████| 469/469 [00:09<00:00, 51.20it/s]\n"
          ]
        },
        {
          "name": "stdout",
          "output_type": "stream",
          "text": [
            "Epoch 4/30, VAE Loss: 2504.5850, Real Loss: 0.0008, Fake Loss: 0.0063, Recon Loss: 0.0127\n"
          ]
        },
        {
          "name": "stderr",
          "output_type": "stream",
          "text": [
            "100%|██████████| 469/469 [00:09<00:00, 48.14it/s]\n"
          ]
        },
        {
          "name": "stdout",
          "output_type": "stream",
          "text": [
            "Epoch 5/30, VAE Loss: 2657.4795, Real Loss: 0.0124, Fake Loss: 0.0044, Recon Loss: 0.0057\n"
          ]
        },
        {
          "name": "stderr",
          "output_type": "stream",
          "text": [
            "100%|██████████| 469/469 [00:08<00:00, 52.87it/s]\n"
          ]
        },
        {
          "name": "stdout",
          "output_type": "stream",
          "text": [
            "Epoch 6/30, VAE Loss: 2710.7095, Real Loss: 0.0014, Fake Loss: 0.0016, Recon Loss: 0.0019\n"
          ]
        },
        {
          "name": "stderr",
          "output_type": "stream",
          "text": [
            "100%|██████████| 469/469 [00:08<00:00, 55.95it/s]\n"
          ]
        },
        {
          "name": "stdout",
          "output_type": "stream",
          "text": [
            "Epoch 7/30, VAE Loss: 2365.2600, Real Loss: 0.0239, Fake Loss: 0.0128, Recon Loss: 0.0036\n"
          ]
        },
        {
          "name": "stderr",
          "output_type": "stream",
          "text": [
            "100%|██████████| 469/469 [00:08<00:00, 53.47it/s]\n"
          ]
        },
        {
          "name": "stdout",
          "output_type": "stream",
          "text": [
            "Epoch 8/30, VAE Loss: 2389.6787, Real Loss: 0.0023, Fake Loss: 0.0029, Recon Loss: 0.0029\n"
          ]
        },
        {
          "name": "stderr",
          "output_type": "stream",
          "text": [
            "100%|██████████| 469/469 [00:08<00:00, 53.49it/s]\n"
          ]
        },
        {
          "name": "stdout",
          "output_type": "stream",
          "text": [
            "Epoch 9/30, VAE Loss: 2467.4912, Real Loss: 0.0060, Fake Loss: 0.0003, Recon Loss: 0.0023\n"
          ]
        },
        {
          "name": "stderr",
          "output_type": "stream",
          "text": [
            "100%|██████████| 469/469 [00:08<00:00, 52.77it/s]\n"
          ]
        },
        {
          "name": "stdout",
          "output_type": "stream",
          "text": [
            "Epoch 10/30, VAE Loss: 2372.5796, Real Loss: 0.0048, Fake Loss: 0.0028, Recon Loss: 0.0005\n"
          ]
        },
        {
          "name": "stderr",
          "output_type": "stream",
          "text": [
            "100%|██████████| 469/469 [00:08<00:00, 56.77it/s]\n"
          ]
        },
        {
          "name": "stdout",
          "output_type": "stream",
          "text": [
            "Epoch 11/30, VAE Loss: 2429.7859, Real Loss: 0.0032, Fake Loss: 0.0109, Recon Loss: 0.0155\n"
          ]
        },
        {
          "name": "stderr",
          "output_type": "stream",
          "text": [
            "100%|██████████| 469/469 [00:08<00:00, 58.07it/s]\n"
          ]
        },
        {
          "name": "stdout",
          "output_type": "stream",
          "text": [
            "Epoch 12/30, VAE Loss: 2409.1772, Real Loss: 0.0008, Fake Loss: 0.0002, Recon Loss: 0.0018\n"
          ]
        },
        {
          "name": "stderr",
          "output_type": "stream",
          "text": [
            "100%|██████████| 469/469 [00:08<00:00, 57.15it/s]\n"
          ]
        },
        {
          "name": "stdout",
          "output_type": "stream",
          "text": [
            "Epoch 13/30, VAE Loss: 2499.1599, Real Loss: 0.0128, Fake Loss: 0.0004, Recon Loss: 0.0004\n"
          ]
        },
        {
          "name": "stderr",
          "output_type": "stream",
          "text": [
            "100%|██████████| 469/469 [00:08<00:00, 54.47it/s]\n"
          ]
        },
        {
          "name": "stdout",
          "output_type": "stream",
          "text": [
            "Epoch 14/30, VAE Loss: 2354.4971, Real Loss: 0.0029, Fake Loss: 0.0011, Recon Loss: 0.0006\n"
          ]
        },
        {
          "name": "stderr",
          "output_type": "stream",
          "text": [
            "100%|██████████| 469/469 [00:08<00:00, 58.03it/s]\n"
          ]
        },
        {
          "name": "stdout",
          "output_type": "stream",
          "text": [
            "Epoch 15/30, VAE Loss: 2280.9038, Real Loss: 0.0015, Fake Loss: 0.0001, Recon Loss: 0.0017\n"
          ]
        },
        {
          "name": "stderr",
          "output_type": "stream",
          "text": [
            "100%|██████████| 469/469 [00:08<00:00, 53.96it/s]\n"
          ]
        },
        {
          "name": "stdout",
          "output_type": "stream",
          "text": [
            "Epoch 16/30, VAE Loss: 2145.0215, Real Loss: 0.0013, Fake Loss: 0.0003, Recon Loss: 0.0002\n"
          ]
        },
        {
          "name": "stderr",
          "output_type": "stream",
          "text": [
            "100%|██████████| 469/469 [00:10<00:00, 46.76it/s]\n"
          ]
        },
        {
          "name": "stdout",
          "output_type": "stream",
          "text": [
            "Epoch 17/30, VAE Loss: 2268.0786, Real Loss: 0.0029, Fake Loss: 0.0018, Recon Loss: 0.0003\n"
          ]
        },
        {
          "name": "stderr",
          "output_type": "stream",
          "text": [
            "100%|██████████| 469/469 [00:09<00:00, 49.56it/s]\n"
          ]
        },
        {
          "name": "stdout",
          "output_type": "stream",
          "text": [
            "Epoch 18/30, VAE Loss: 2366.7061, Real Loss: 0.0008, Fake Loss: 0.0006, Recon Loss: 0.0013\n"
          ]
        },
        {
          "name": "stderr",
          "output_type": "stream",
          "text": [
            "100%|██████████| 469/469 [00:08<00:00, 57.18it/s]\n"
          ]
        },
        {
          "name": "stdout",
          "output_type": "stream",
          "text": [
            "Epoch 19/30, VAE Loss: 2391.9504, Real Loss: 0.0005, Fake Loss: 0.0018, Recon Loss: 0.0078\n"
          ]
        },
        {
          "name": "stderr",
          "output_type": "stream",
          "text": [
            "100%|██████████| 469/469 [00:08<00:00, 56.71it/s]\n"
          ]
        },
        {
          "name": "stdout",
          "output_type": "stream",
          "text": [
            "Epoch 20/30, VAE Loss: 2408.1760, Real Loss: 0.0046, Fake Loss: 0.0009, Recon Loss: 0.0003\n"
          ]
        },
        {
          "name": "stderr",
          "output_type": "stream",
          "text": [
            "100%|██████████| 469/469 [00:08<00:00, 52.37it/s]\n"
          ]
        },
        {
          "name": "stdout",
          "output_type": "stream",
          "text": [
            "Epoch 21/30, VAE Loss: 2342.7612, Real Loss: 0.0012, Fake Loss: 0.0043, Recon Loss: 0.0005\n"
          ]
        },
        {
          "name": "stderr",
          "output_type": "stream",
          "text": [
            "100%|██████████| 469/469 [00:08<00:00, 55.95it/s]\n"
          ]
        },
        {
          "name": "stdout",
          "output_type": "stream",
          "text": [
            "Epoch 22/30, VAE Loss: 2409.2263, Real Loss: 0.0006, Fake Loss: 0.0004, Recon Loss: 0.0007\n"
          ]
        },
        {
          "name": "stderr",
          "output_type": "stream",
          "text": [
            "100%|██████████| 469/469 [00:08<00:00, 57.61it/s]\n"
          ]
        },
        {
          "name": "stdout",
          "output_type": "stream",
          "text": [
            "Epoch 23/30, VAE Loss: 2182.9036, Real Loss: 0.0180, Fake Loss: 0.0028, Recon Loss: 0.0013\n"
          ]
        },
        {
          "name": "stderr",
          "output_type": "stream",
          "text": [
            "100%|██████████| 469/469 [00:08<00:00, 55.20it/s]\n"
          ]
        },
        {
          "name": "stdout",
          "output_type": "stream",
          "text": [
            "Epoch 24/30, VAE Loss: 2445.8716, Real Loss: 0.0021, Fake Loss: 0.0010, Recon Loss: 0.0014\n"
          ]
        },
        {
          "name": "stderr",
          "output_type": "stream",
          "text": [
            "100%|██████████| 469/469 [00:08<00:00, 56.08it/s]\n"
          ]
        },
        {
          "name": "stdout",
          "output_type": "stream",
          "text": [
            "Epoch 25/30, VAE Loss: 2586.4766, Real Loss: 0.0001, Fake Loss: 0.0000, Recon Loss: 0.0006\n"
          ]
        },
        {
          "name": "stderr",
          "output_type": "stream",
          "text": [
            "100%|██████████| 469/469 [00:08<00:00, 55.84it/s]\n"
          ]
        },
        {
          "name": "stdout",
          "output_type": "stream",
          "text": [
            "Epoch 26/30, VAE Loss: 2305.2605, Real Loss: 0.0002, Fake Loss: 0.0002, Recon Loss: 0.0001\n"
          ]
        },
        {
          "name": "stderr",
          "output_type": "stream",
          "text": [
            "100%|██████████| 469/469 [00:08<00:00, 57.71it/s]\n"
          ]
        },
        {
          "name": "stdout",
          "output_type": "stream",
          "text": [
            "Epoch 27/30, VAE Loss: 2292.3821, Real Loss: 0.0003, Fake Loss: 0.0009, Recon Loss: 0.0011\n"
          ]
        },
        {
          "name": "stderr",
          "output_type": "stream",
          "text": [
            "100%|██████████| 469/469 [00:09<00:00, 50.32it/s]\n"
          ]
        },
        {
          "name": "stdout",
          "output_type": "stream",
          "text": [
            "Epoch 28/30, VAE Loss: 2347.0513, Real Loss: 0.0009, Fake Loss: 0.0002, Recon Loss: 0.0012\n"
          ]
        },
        {
          "name": "stderr",
          "output_type": "stream",
          "text": [
            "100%|██████████| 469/469 [00:08<00:00, 52.18it/s]\n"
          ]
        },
        {
          "name": "stdout",
          "output_type": "stream",
          "text": [
            "Epoch 29/30, VAE Loss: 2182.0405, Real Loss: 0.0000, Fake Loss: 0.0025, Recon Loss: 0.0033\n"
          ]
        },
        {
          "name": "stderr",
          "output_type": "stream",
          "text": [
            "100%|██████████| 469/469 [00:10<00:00, 44.09it/s]\n"
          ]
        },
        {
          "name": "stdout",
          "output_type": "stream",
          "text": [
            "Epoch 30/30, VAE Loss: 2361.6812, Real Loss: 0.0000, Fake Loss: 0.0005, Recon Loss: 0.0012\n"
          ]
        },
        {
          "data": {
            "image/png": "[encoded data removed]",
            "text/plain": [
              "<Figure size 1000x800 with 1 Axes>"
            ]
          },
          "metadata": {},
          "output_type": "display_data"
        }
      ],
      "source": [
        "import torch\n",
        "import matplotlib.pyplot as plt\n",
        "from tqdm import tqdm\n",
        "\n",
        "def train_vaegan(model, train_loader, epochs=40, device=torch.device('cuda' if torch.cuda.is_available() else 'cpu')):\n",
        "    model.to(device)\n",
        "    model.train()\n",
        "\n",
        "    vae_loss_log = []\n",
        "    real_loss_log = []\n",
        "    fake_loss_log = []\n",
        "    recon_loss_log = []\n",
        "\n",
        "    for epoch in range(epochs):\n",
        "        for x in tqdm(train_loader):\n",
        "            images = x[0].to(device)\n",
        "\n",
        "            vae_loss, real_loss, fake_loss, recon_loss = model.step(images)\n",
        "\n",
        "            vae_loss_log.append(vae_loss)\n",
        "            real_loss_log.append(real_loss)\n",
        "            fake_loss_log.append(fake_loss)\n",
        "            recon_loss_log.append(recon_loss)\n",
        "\n",
        "        print(f'Epoch {epoch + 1}/{epochs}, VAE Loss: {vae_loss:.4f}, Real Loss: {real_loss:.4f}, Fake Loss: {fake_loss:.4f}, Recon Loss: {recon_loss:.4f}')\n",
        "\n",
        "    return vae_loss_log, real_loss_log, fake_loss_log, recon_loss_log\n",
        "\n",
        "def plot_losses(vae_loss, real_loss, fake_loss, recon_loss):\n",
        "    plt.figure(figsize=(10, 8))\n",
        "    plt.plot(vae_loss, label='VAE Loss')\n",
        "    plt.plot(real_loss, label='Real Discriminator Loss')\n",
        "    plt.plot(fake_loss, label='Fake Discriminator Loss')\n",
        "    plt.plot(recon_loss, label='Reconstruction Loss')\n",
        "    plt.title('Training Losses')\n",
        "    plt.xlabel('Iterations')\n",
        "    plt.ylabel('Loss')\n",
        "    plt.legend()\n",
        "    plt.grid(True)\n",
        "    plt.show()\n",
        "\n",
        "\n",
        "vae_loss, real_loss, fake_loss, recon_loss = train_vaegan(vae_gan, train_loader, epochs=30)\n",
        "plot_losses(vae_loss, real_loss, fake_loss, recon_loss)\n"
      ]
    },
    {
      "cell_type": "markdown",
      "metadata": {
        "id": "aFlQjJCvqqFK"
      },
      "source": [
        "##### Visualization"
      ]
    },
    {
      "cell_type": "code",
      "execution_count": null,
      "metadata": {
        "colab": {
          "base_uri": "https://localhost:8080/",
          "height": 369
        },
        "id": "4Dea-rLfqsrg",
        "outputId": "c6936bc2-8c3b-49a4-b13f-61c168d3515c"
      },
      "outputs": [
        {
          "data": {
            "image/png": "[encoded data removed]",
            "text/plain": [
              "<Figure size 2000x600 with 30 Axes>"
            ]
          },
          "metadata": {},
          "output_type": "display_data"
        }
      ],
      "source": [
        "import torch\n",
        "import matplotlib.pyplot as plt\n",
        "import numpy as np\n",
        "\n",
        "def visualize_reconstructions(model, test_loader, device=torch.device('cuda' if torch.cuda.is_available() else 'cpu')):\n",
        "    model.eval()\n",
        "    model.to(device)\n",
        "\n",
        "    # Select 10 random samples from the test set\n",
        "    test_samples = next(iter(test_loader))[0]\n",
        "    test_samples = test_samples[:10].to(device)\n",
        "    with torch.no_grad():\n",
        "        reconstructed_images = model.reconstruct(test_samples).cpu()\n",
        "\n",
        "    # Generate 10 random images\n",
        "    random_latent = torch.randn(10, model.latent_dim).to(device)\n",
        "    with torch.no_grad():\n",
        "        random_images = model.decode(random_latent).cpu()\n",
        "\n",
        "    # Visualization\n",
        "    fig, axes = plt.subplots(3, 10, figsize=(20, 6))\n",
        "    for i in range(10):\n",
        "        # Display original images\n",
        "        axes[0, i].imshow(test_samples[i].cpu().squeeze(), cmap='gray')\n",
        "        axes[0, i].set_title(f'Original {i+1}')\n",
        "        axes[0, i].axis('off')\n",
        "\n",
        "        # Display reconstructed images\n",
        "        axes[1, i].imshow(reconstructed_images[i].squeeze(), cmap='gray')\n",
        "        axes[1, i].set_title(f'Reconstructed {i+1}')\n",
        "        axes[1, i].axis('off')\n",
        "\n",
        "        # Display randomly generated images\n",
        "        axes[2, i].imshow(random_images[i].squeeze(), cmap='gray')\n",
        "        axes[2, i].set_title(f'Random {i+1}')\n",
        "        axes[2, i].axis('off')\n",
        "\n",
        "    plt.show()\n",
        "\n",
        "\n",
        "visualize_reconstructions(vae_gan, test_loader)\n"
      ]
    },
    {
      "cell_type": "markdown",
      "metadata": {
        "id": "Mf9Tot4q4W4h"
      },
      "source": []
    }
  ],
  "metadata": {
    "accelerator": "GPU",
    "colab": {
      "gpuType": "T4",
      "provenance": [],
      "toc_visible": true
    },
    "kernelspec": {
      "display_name": "Python 3 (ipykernel)",
      "language": "python",
      "name": "python3"
    },
    "language_info": {
      "codemirror_mode": {
        "name": "ipython",
        "version": 3
      },
      "file_extension": ".py",
      "mimetype": "text/x-python",
      "name": "python",
      "nbconvert_exporter": "python",
      "pygments_lexer": "ipython3",
      "version": "3.11.9"
    }
  },
  "nbformat": 4,
  "nbformat_minor": 0
}